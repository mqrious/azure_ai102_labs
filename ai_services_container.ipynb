{
 "cells": [
  {
   "cell_type": "code",
   "execution_count": 2,
   "id": "6e965834",
   "metadata": {},
   "outputs": [
    {
     "name": "stdout",
     "output_type": "stream",
     "text": [
      "01caf1342ac4a8b6a78425150069b2eaa367e5740efa13b9c9ba0ff58dbb9de3\n"
     ]
    }
   ],
   "source": [
    "!docker run -d --platform linux/amd64 -p 5001:5000 \\\n",
    "    -e AZURE_AI_SERVICES_ENDPOINT \\\n",
    "    -e AZURE_AI_SERVICES_KEY \\\n",
    "    mcr.microsoft.com/azure-cognitive-services/textanalytics/language:latest \\\n",
    "    Eula=accept \\\n",
    "    Billing=$AZURE_AI_SERVICES_ENDPOINT \\\n",
    "    ApiKey=$AZURE_AI_SERVICES_KEY"
   ]
  },
  {
   "cell_type": "code",
   "execution_count": 4,
   "id": "258e03aa",
   "metadata": {},
   "outputs": [
    {
     "name": "stdout",
     "output_type": "stream",
     "text": [
      "{\"documents\":[{\"id\":\"1\",\"warnings\":[],\"detectedLanguage\":{\"name\":\"English\",\"iso6391Name\":\"en\",\"confidenceScore\":1.0}},{\"id\":\"2\",\"warnings\":[],\"detectedLanguage\":{\"name\":\"French\",\"iso6391Name\":\"fr\",\"confidenceScore\":0.99}},{\"id\":\"3\",\"warnings\":[],\"detectedLanguage\":{\"name\":\"Spanish\",\"iso6391Name\":\"es\",\"confidenceScore\":1.0}}],\"errors\":[],\"modelVersion\":\"2024-11-01\"}"
     ]
    }
   ],
   "source": [
    "!curl -X POST \"http://localhost:5001/text/analytics/v3.0/languages\" \\\n",
    "    -H \"Content-Type: application/json\" \\\n",
    "    --data-ascii \"{ 'documents': [ { 'text': 'Microsoft is located at Redmond, WA.', 'id': '1' }, { 'text': 'Bonjour tout le monde', 'id': '2' }, { 'text': 'La carretera estaba atascada. Había mucho tráfico el día de ayer.', 'id': '3' } ] }\""
   ]
  }
 ],
 "metadata": {
  "kernelspec": {
   "display_name": ".venv",
   "language": "python",
   "name": "python3"
  },
  "language_info": {
   "codemirror_mode": {
    "name": "ipython",
    "version": 3
   },
   "file_extension": ".py",
   "mimetype": "text/x-python",
   "name": "python",
   "nbconvert_exporter": "python",
   "pygments_lexer": "ipython3",
   "version": "3.12.10"
  }
 },
 "nbformat": 4,
 "nbformat_minor": 5
}
