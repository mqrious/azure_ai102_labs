{
 "cells": [
  {
   "cell_type": "markdown",
   "id": "a6a2a439",
   "metadata": {},
   "source": [
    "# Semantic Kernel\n",
    "\n",
    "- The Semantic Kernel Agent Framework supports different types of agents, including `ChatCompletionAgent`, `OpenAIAssistantAgent`, and `AzureAIAgent`.\n",
    "- Using the Semantic Kernel Agent Framework allows developers to quickly build agents on the Foundry Agent Service, with support for natural language processing and access to built-in tools in just a few lines of code.\n",
    "- Semantic Kernel allows integration of Azure AI Agent capabilities, such as built-in tools and project deployment, without rewriting your code. \n",
    "- Semantic Kernel ensures consistent implementation across multiple types of agents.\n",
    "- The Semantic Kernel Agent Framework plugins and functions feature allows your AI agent to interact with APIs, retrieve necessary data, and complete tasks."
   ]
  },
  {
   "cell_type": "markdown",
   "id": "3a584bdb",
   "metadata": {},
   "source": [
    "## Semantic Kernel core components\n",
    "The components can be used individually or combined:\n",
    "- **AI service connectors**: connect the code to AI services from different providers under a common interface. Supported services include Chat Completion, Text Generation, and more.\n",
    "- **Memory connectors**: expose vector stores from other providers under a common interface.\n",
    "- **Functions and plugins**: containers for functions that are registered with the kernel. Once registered, functions can be invoked by the AI or through prompt templates.\n",
    "- **Prompt templates**: combine instructions, user input, and function outputs into a reusable format. Prompt templates allow AI models to execute predefined steps dynamically.\n",
    "- **Filters** - allow custom actions to be performed before and after a function or prompt is invoked. When registered, function filters act as outer layers and prompt filters as inner layers."
   ]
  },
  {
   "cell_type": "markdown",
   "id": "56c132b7",
   "metadata": {},
   "source": [
    "## Agent framework core concepts\n",
    "- **Agent**: abstraction for AI agents, with specialized subclasses like AzureAIAgent.\n",
    "- **Agent threads**:  manage conversation state and stores conversations.\n",
    "- **Agent chat**: the foundation for multi-agent interactions, allows for structured conversations and collaboration.\n",
    "- **Agent channel**: used for custom agent development, allows different types of agents to participate in AgentChat.\n",
    "- **Agent messages**: a unified structure for agent communication, provides seamless communication and integration with existing AI workflows.\n",
    "- **Templating**: like Semantic Kernel prompt templates, templates use dynamic prompt configurations to shape agent behavior.\n",
    "- **Functions and plugins**: like Semantic Kernel plugins, agent plugin functions allow developers to extend agent capabilities by incorporating custom functions."
   ]
  },
  {
   "cell_type": "markdown",
   "id": "986dd4c4",
   "metadata": {},
   "source": [
    "## AzureAIAgent key components\n",
    "The Semantic Kernel AzureAIAgent object relies on the following components to function:\n",
    "- `AzureAISAgentSettings`: an object that automatically includes the Azure AI Agent settings from the environment configuration. These settings will be used by the AzureAIAgents you create.\n",
    "- `AzureAIAgent` client: an object that manages the connection to your Azure AI Foundry project.\n",
    "- Agent service: the `AzureAIAgent` client also contains an agent operations service. This service helps streamline the process of creating, managing, and running the agents for your project.\n",
    "- Agent definition: the AzureAI Agent model created via the AzureAI Project client, specifies the AI deployment model that should be used, and the name and instructions for the agent.\n",
    "- `AzureAIAgentThread`: automatically maintains the conversation history between agents and users, and the state."
   ]
  },
  {
   "cell_type": "markdown",
   "id": "4d72f5e2",
   "metadata": {},
   "source": [
    "## With plugins\n",
    "\n",
    "In Semantic Kernel, plugins work through function calling, allowing AI to request and use specific functions.\n",
    "\n",
    "To enable automatic orchestration with function calling, plugins also need to provide details that describe how they behave. The function's input, output, and side effects should be described in a way that the AI can understand, otherwise, the AI will not correctly call the function."
   ]
  },
  {
   "cell_type": "markdown",
   "id": "43b5c282",
   "metadata": {},
   "source": [
    "# Setup"
   ]
  },
  {
   "cell_type": "code",
   "execution_count": 22,
   "id": "f673808f",
   "metadata": {},
   "outputs": [],
   "source": [
    "import os\n",
    "\n",
    "from dotenv import load_dotenv\n",
    "\n",
    "from azure.identity.aio import DefaultAzureCredential\n",
    "from semantic_kernel.agents import AzureAIAgent, AzureAIAgentSettings, AzureAIAgentThread\n",
    "from semantic_kernel.functions import kernel_function\n",
    "from typing import Annotated\n",
    "\n",
    "load_dotenv()\n",
    "\n",
    "AGENT_PROJECT_ENDPOINT = os.getenv(\"AGENT_PROJECT_ENDPOINT\")\n",
    "AGENT_MODEL_DEPLOYMENT = os.getenv(\"AGENT_MODEL_DEPLOYMENT\")"
   ]
  },
  {
   "cell_type": "code",
   "execution_count": 23,
   "id": "9c7b6786",
   "metadata": {},
   "outputs": [],
   "source": [
    "# Plugin creation\n",
    "\n",
    "class EmailPlugin:\n",
    "    \"\"\"A Plugin to simulate email functionality.\"\"\"\n",
    "    \n",
    "    @kernel_function(description=\"Sends an email.\")\n",
    "    def send_email(self,\n",
    "                   to: Annotated[str, \"Who to send the email to\"],\n",
    "                   subject: Annotated[str, \"The subject of the email.\"],\n",
    "                   body: Annotated[str, \"The text body of the email.\"]):\n",
    "        print(\"\\nTo:\", to)\n",
    "        print(\"Subject:\", subject)\n",
    "        print(body, \"\\n\")"
   ]
  },
  {
   "cell_type": "code",
   "execution_count": 15,
   "id": "a4c583ec",
   "metadata": {},
   "outputs": [],
   "source": [
    "ai_agent_settings = AzureAIAgentSettings(\n",
    "    endpoint=AGENT_PROJECT_ENDPOINT,\n",
    "    model_deployment_name=AGENT_MODEL_DEPLOYMENT,\n",
    ")\n",
    "\n",
    "project_client = AzureAIAgent.create_client(\n",
    "    endpoint=AGENT_PROJECT_ENDPOINT,\n",
    "    credential=DefaultAzureCredential(\n",
    "        exclude_environment_credential=True,\n",
    "        exclude_managed_identity_credential=True\n",
    "    )\n",
    ")"
   ]
  },
  {
   "cell_type": "code",
   "execution_count": null,
   "id": "0c7f67cf",
   "metadata": {},
   "outputs": [],
   "source": [
    "# Define an Azure AI agent that sends an expense claim email\n",
    "expenses_agent_def = await project_client.agents.create_agent(\n",
    "     model= ai_agent_settings.model_deployment_name,\n",
    "     name=\"expenses_agent\",\n",
    "     instructions=\"\"\"You are an AI assistant for expense claim submission.\n",
    "                     When a user submits expenses data and requests an expense claim, use the plug-in function to send an email to expenses@contoso.com with the subject 'Expense Claim`and a body that contains itemized expenses with a total.\n",
    "                     Then confirm to the user that you've done so.\"\"\"\n",
    ")"
   ]
  },
  {
   "cell_type": "code",
   "execution_count": 19,
   "id": "bc9df6ee",
   "metadata": {},
   "outputs": [
    {
     "name": "stdout",
     "output_type": "stream",
     "text": [
      "expenses_agent\n"
     ]
    }
   ],
   "source": [
    "async for agent in project_client.agents.list_agents():\n",
    "    print(agent.name)"
   ]
  },
  {
   "cell_type": "code",
   "execution_count": 24,
   "id": "6f3874cb",
   "metadata": {},
   "outputs": [],
   "source": [
    "# Create a semantic kernel agent\n",
    "expenses_agent = AzureAIAgent(\n",
    "     client=project_client,\n",
    "     definition=expenses_agent_def,\n",
    "     plugins=[EmailPlugin()]\n",
    ")"
   ]
  },
  {
   "cell_type": "code",
   "execution_count": 25,
   "id": "4d9f326f",
   "metadata": {},
   "outputs": [
    {
     "name": "stdout",
     "output_type": "stream",
     "text": [
      "\n",
      "To: expenses@contoso.com\n",
      "Subject: Expense Claim\n",
      "Itemized Expenses:\n",
      "1. Date: 07-Mar-2025, Description: taxi, Amount: $24.00\n",
      "2. Date: 07-Mar-2025, Description: dinner, Amount: $65.50\n",
      "3. Date: 07-Mar-2025, Description: hotel, Amount: $125.90\n",
      "\n",
      "Total Amount: $215.40 \n",
      "\n",
      "\n",
      "# expenses_agent:\n",
      "I've sent your expense claim email with the itemized expenses to expenses@contoso.com. Your total claim amount is $215.40.\n"
     ]
    }
   ],
   "source": [
    "# Use the agent to process the expenses data\n",
    "# If no thread is provided, a new thread will be\n",
    "# created and returned with the initial response\n",
    "thread: AzureAIAgentThread | None = None\n",
    "\n",
    "prompt = \"\"\"Here's my expense data:\n",
    "date,description,amount\n",
    "07-Mar-2025,taxi,24.00\n",
    "07-Mar-2025,dinner,65.50\n",
    "07-Mar-2025,hotel,125.90\n",
    "\n",
    "Please notify by email.\n",
    "\"\"\"\n",
    "\n",
    "try:\n",
    "     # Add the input prompt to a list of messages to be submitted\n",
    "     prompt_messages = [prompt]\n",
    "     # Invoke the agent for the specified thread with the messages\n",
    "     response = await expenses_agent.get_response(prompt_messages, thread=thread)\n",
    "     # Display the response\n",
    "     print(f\"\\n# {response.name}:\\n{response}\")\n",
    "except Exception as e:\n",
    "     # Something went wrong\n",
    "     print (e)\n",
    "finally:\n",
    "     # Cleanup: Delete the thread and agent\n",
    "     await thread.delete() if thread else None\n",
    "     await project_client.agents.delete_agent(expenses_agent.id)"
   ]
  }
 ],
 "metadata": {
  "kernelspec": {
   "display_name": ".venv",
   "language": "python",
   "name": "python3"
  },
  "language_info": {
   "codemirror_mode": {
    "name": "ipython",
    "version": 3
   },
   "file_extension": ".py",
   "mimetype": "text/x-python",
   "name": "python",
   "nbconvert_exporter": "python",
   "pygments_lexer": "ipython3",
   "version": "3.12.10"
  }
 },
 "nbformat": 4,
 "nbformat_minor": 5
}
