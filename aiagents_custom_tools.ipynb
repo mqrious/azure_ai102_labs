{
 "cells": [
  {
   "cell_type": "markdown",
   "id": "616adf54",
   "metadata": {},
   "source": [
    "# Why use custom tools?\n",
    "\n",
    "- Enhanced productivity: Automate repetitive tasks and streamline workflows.\n",
    "- Improved accuracy: Provide precise and consistent outputs, reducing human error.\n",
    "- Tailored solutions: Address specific business needs and optimize processes."
   ]
  },
  {
   "cell_type": "markdown",
   "id": "8b3bec51",
   "metadata": {},
   "source": [
    "# Setup"
   ]
  },
  {
   "cell_type": "code",
   "execution_count": 7,
   "id": "008df435",
   "metadata": {},
   "outputs": [
    {
     "name": "stdout",
     "output_type": "stream",
     "text": [
      "snowfall-agent\n"
     ]
    }
   ],
   "source": [
    "import os\n",
    "\n",
    "from dotenv import load_dotenv\n",
    "\n",
    "from azure.identity import DefaultAzureCredential\n",
    "from azure.ai.agents import AgentsClient\n",
    "from azure.ai.agents.models import FunctionTool, ToolSet, ListSortOrder\n",
    "\n",
    "load_dotenv()\n",
    "\n",
    "AGENT_PROJECT_ENDPOINT = os.getenv(\"AGENT_PROJECT_ENDPOINT\")\n",
    "AGENT_MODEL_DEPLOYMENT = os.getenv(\"AGENT_MODEL_DEPLOYMENT\")\n",
    "\n",
    "agent_client = AgentsClient(\n",
    "    endpoint=AGENT_PROJECT_ENDPOINT,\n",
    "    credential=DefaultAzureCredential\n",
    "        (exclude_environment_credential=True,\n",
    "         exclude_managed_identity_credential=True)\n",
    ")\n",
    "\n",
    "for agent in agent_client.list_agents():\n",
    "    print(agent.name)"
   ]
  },
  {
   "cell_type": "markdown",
   "id": "d4764a0a",
   "metadata": {},
   "source": [
    "# Agent with Function calling tool"
   ]
  },
  {
   "cell_type": "code",
   "execution_count": 1,
   "id": "a9ef4d63",
   "metadata": {},
   "outputs": [],
   "source": [
    "import json\n",
    "from typing import Set, Callable, Any\n",
    "\n",
    "def recent_snowfall(location: str) -> str:\n",
    "    \"\"\"\n",
    "    Fetches recent snowfall totals for a given location.\n",
    "    :param location: The city name.\n",
    "    :return: Snowfall details as a JSON string.\n",
    "    \"\"\"\n",
    "    mock_snow_data = {\"Seattle\": \"0 inches\", \"Denver\": \"2 inches\"}\n",
    "    snow = mock_snow_data.get(location, \"Data not available.\")\n",
    "    return json.dumps({\"location\": location, \"snowfall\": snow})\n",
    "\n",
    "user_functions: Set[Callable[..., Any]] = {\n",
    "    recent_snowfall,\n",
    "}"
   ]
  },
  {
   "cell_type": "code",
   "execution_count": 9,
   "id": "6878c198",
   "metadata": {},
   "outputs": [],
   "source": [
    "# Initialize agent toolset with user functions\n",
    "functions = FunctionTool(user_functions)\n",
    "toolset = ToolSet()\n",
    "toolset.add(functions)\n",
    "agent_client.enable_auto_function_calls(tools=toolset)\n",
    "\n",
    "# Create your agent with the toolset\n",
    "agent = agent_client.create_agent(\n",
    "    model=AGENT_MODEL_DEPLOYMENT,\n",
    "    name=\"snowfall-agent\",\n",
    "    instructions=\"You are a weather assistant tracking snowfall. Use the provided functions to answer questions.\",\n",
    "    toolset=toolset\n",
    ")"
   ]
  },
  {
   "cell_type": "code",
   "execution_count": 10,
   "id": "22001304",
   "metadata": {},
   "outputs": [
    {
     "data": {
      "text/plain": [
       "[{'type': 'function', 'function': {'name': 'recent_snowfall', 'description': 'Fetches recent snowfall totals for a given location.', 'parameters': {'type': 'object', 'properties': {'location': {'type': 'string', 'description': 'The city name.'}}, 'required': ['location']}, 'strict': False}}]"
      ]
     },
     "execution_count": 10,
     "metadata": {},
     "output_type": "execute_result"
    }
   ],
   "source": [
    "agent.tools"
   ]
  },
  {
   "cell_type": "code",
   "execution_count": 11,
   "id": "4d9a516c",
   "metadata": {},
   "outputs": [],
   "source": [
    "# Create a thread for the conversation\n",
    "thread = agent_client.threads.create()"
   ]
  },
  {
   "cell_type": "code",
   "execution_count": 12,
   "id": "21e10123",
   "metadata": {},
   "outputs": [
    {
     "name": "stdout",
     "output_type": "stream",
     "text": [
      "\n",
      "Conversation Log:\n",
      "\n",
      "MessageRole.USER: What is the recent snowfall information in Denver?\n",
      "\n",
      "MessageRole.AGENT: The recent snowfall in Denver is 2 inches.\n",
      "\n"
     ]
    }
   ],
   "source": [
    "# Send a prompt to the agent\n",
    "message = agent_client.messages.create(\n",
    "     thread_id=thread.id,\n",
    "     role=\"user\",\n",
    "     content=\"What is the recent snowfall information in Denver?\",\n",
    " )\n",
    "\n",
    "run = agent_client.runs.create_and_process(thread_id=thread.id, agent_id=agent.id)\n",
    "\n",
    "# Get the conversation history\n",
    "print(\"\\nConversation Log:\\n\")\n",
    "messages = agent_client.messages.list(thread_id=thread.id, order=ListSortOrder.ASCENDING)\n",
    "for message in messages:\n",
    "    if message.text_messages:\n",
    "        last_msg = message.text_messages[-1]\n",
    "        print(f\"{message.role}: {last_msg.text.value}\\n\")"
   ]
  },
  {
   "cell_type": "code",
   "execution_count": 13,
   "id": "f4aeccc3",
   "metadata": {},
   "outputs": [],
   "source": [
    "# Clean up\n",
    "agent_client.delete_agent(agent.id)"
   ]
  }
 ],
 "metadata": {
  "kernelspec": {
   "display_name": ".venv",
   "language": "python",
   "name": "python3"
  },
  "language_info": {
   "codemirror_mode": {
    "name": "ipython",
    "version": 3
   },
   "file_extension": ".py",
   "mimetype": "text/x-python",
   "name": "python",
   "nbconvert_exporter": "python",
   "pygments_lexer": "ipython3",
   "version": "3.12.10"
  }
 },
 "nbformat": 4,
 "nbformat_minor": 5
}
