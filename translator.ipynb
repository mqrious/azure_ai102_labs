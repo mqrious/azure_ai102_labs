{
 "cells": [
  {
   "cell_type": "markdown",
   "id": "e16acbfc",
   "metadata": {},
   "source": [
    "# Setup"
   ]
  },
  {
   "cell_type": "code",
   "execution_count": 3,
   "id": "c648dc46",
   "metadata": {},
   "outputs": [],
   "source": [
    "from azure.core.credentials import AzureKeyCredential\n",
    "from azure.ai.translation.text import *\n",
    "from azure.ai.translation.text.models import InputTextItem\n",
    "import os\n",
    "from dotenv import load_dotenv\n",
    "\n",
    "load_dotenv()\n",
    "\n",
    "AI_SERVICE_KEY = os.getenv(\"AI_SERVICE_KEY\")\n",
    "AI_SERVICE_ENDPOINT = os.getenv(\"AI_SERVICE_ENDPOINT\")\n",
    "AI_SERVICE_REGION = os.getenv(\"AI_SERVICE_REGION\")"
   ]
  },
  {
   "cell_type": "code",
   "execution_count": 4,
   "id": "0ce614f1",
   "metadata": {},
   "outputs": [],
   "source": [
    "# Create client using endpoint and key\n",
    "credential = AzureKeyCredential(AI_SERVICE_KEY)\n",
    "client = TextTranslationClient(credential=credential, region=AI_SERVICE_REGION)"
   ]
  },
  {
   "cell_type": "markdown",
   "id": "d68fdf02",
   "metadata": {},
   "source": [
    "# Usage"
   ]
  },
  {
   "cell_type": "markdown",
   "id": "ca184be3",
   "metadata": {},
   "source": [
    "## Translation"
   ]
  },
  {
   "cell_type": "code",
   "execution_count": 7,
   "id": "5baa55a6",
   "metadata": {},
   "outputs": [
    {
     "name": "stdout",
     "output_type": "stream",
     "text": [
      "Translation result:\n",
      "\n",
      "Thời tiết ở Hà Nội thay đổi nhanh chóng, với những cơn mưa bão bất ngờ theo sau đó là nắng chói chang. Du khách nên luôn mang theo ô khi khám phá thành phố.\n",
      "\n",
      "[{'detectedLanguage': {'language': 'en', 'score': 0.99}, 'translations': [{'text': 'Thời tiết ở Hà Nội thay đổi nhanh chóng, với những cơn mưa bão bất ngờ theo sau đó là nắng chói chang. Du khách nên luôn mang theo ô khi khám phá thành phố.', 'to': 'vi'}]}]\n"
     ]
    }
   ],
   "source": [
    "targetLanguage = \"vi\"\n",
    "\n",
    "body = [\n",
    "    InputTextItem(text=\"The weather in Hanoi changes quickly, with sudden rainstorms followed by bright sunshine. Travelers should always keep an umbrella handy when exploring the city.\")\n",
    "]\n",
    "\n",
    "translationResponse = client.translate(body=body, to_language=[targetLanguage])\n",
    "print(\"Translation result:\\n\")\n",
    "print(translationResponse[0].translations[0].text)\n",
    "print()\n",
    "print(translationResponse)"
   ]
  },
  {
   "cell_type": "markdown",
   "id": "3263966a",
   "metadata": {},
   "source": [
    "## Transliteration"
   ]
  },
  {
   "cell_type": "code",
   "execution_count": 12,
   "id": "0b6a64bd",
   "metadata": {},
   "outputs": [
    {
     "name": "stdout",
     "output_type": "stream",
     "text": [
      "Transliteration result:\n",
      "\n",
      "zhè shìgè cèshì。\n",
      "\n",
      "[{'text': 'zhè shìgè cèshì。', 'script': 'Latn'}]\n"
     ]
    }
   ],
   "source": [
    "transliterationResponse = client.transliterate(\n",
    "    body=[\"这是个测试。\"],\n",
    "    language=\"zh-Hans\",\n",
    "    from_script=\"Hans\",\n",
    "    to_script=\"Latn\",\n",
    ")\n",
    "print(\"Transliteration result:\\n\")\n",
    "print(transliterationResponse[0].text)\n",
    "print()\n",
    "print(transliterationResponse)"
   ]
  }
 ],
 "metadata": {
  "kernelspec": {
   "display_name": "azure_ai102_labs",
   "language": "python",
   "name": "python3"
  },
  "language_info": {
   "codemirror_mode": {
    "name": "ipython",
    "version": 3
   },
   "file_extension": ".py",
   "mimetype": "text/x-python",
   "name": "python",
   "nbconvert_exporter": "python",
   "pygments_lexer": "ipython3",
   "version": "3.12.10"
  }
 },
 "nbformat": 4,
 "nbformat_minor": 5
}
