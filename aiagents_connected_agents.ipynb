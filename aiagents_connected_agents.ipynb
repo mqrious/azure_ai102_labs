{
 "cells": [
  {
   "cell_type": "markdown",
   "id": "36dbca04",
   "metadata": {},
   "source": [
    "# Connected agents\n",
    "\n",
    "This is a feature in the Azure AI Foundry Agent Service that allows you to break large tasks into smaller, specialized roles without building a custom orchestrator or hardcoding routing logic.\n",
    "\n",
    "This division of labor helps:\n",
    "- Simplify complex workflows\n",
    "- Improve agent performance and accuracy\n",
    "- Make systems easier to maintain and extend over time\n",
    "\n",
    "Using connected agents to automate workflows offers many benefits:\n",
    "- **No custom orchestration required** - The main agent uses natural language to route tasks, eliminating the need for hardcoded logic.\n",
    "- **Improved reliability and traceability** - The clear separation of responsibilities makes issues easier to debug since agents can be tested individually.\n",
    "- **Flexible and extensible** - Add or swap agents without reworking the entire system or modifying the main agent."
   ]
  },
  {
   "cell_type": "markdown",
   "id": "4b441dc9",
   "metadata": {},
   "source": [
    "# Agent responsibilities\n",
    "\n",
    "**Main agent responsibilities**\n",
    "The main agent acts as the orchestrator. It interprets the intent behind a request (the input) and determines which connected agent is best suited to handle it. Then aggregating or summarize results.\n",
    "\n",
    "**Connected agent responsibilities**\n",
    "Connected agents designed to focus on a single domain of responsibility. A connected agent is responsible for completing a specific action based on a clear prompt, using tools (if needed), and returning the results to the main agent.\n",
    "\n",
    "Connected agents should be designed with a single responsibility in mind. This makes your system easier to debug, extend, and reuse."
   ]
  },
  {
   "cell_type": "code",
   "execution_count": 4,
   "id": "43f69eda",
   "metadata": {},
   "outputs": [],
   "source": [
    "import os\n",
    "\n",
    "from dotenv import load_dotenv\n",
    "\n",
    "from azure.ai.agents import AgentsClient\n",
    "from azure.ai.agents.models import ConnectedAgentTool, MessageRole, ListSortOrder, ToolSet, FunctionTool\n",
    "from azure.identity import DefaultAzureCredential\n",
    "\n",
    "load_dotenv()\n",
    "\n",
    "AGENT_PROJECT_ENDPOINT = os.getenv(\"AGENT_PROJECT_ENDPOINT\")\n",
    "AGENT_MODEL_DEPLOYMENT = os.getenv(\"AGENT_MODEL_DEPLOYMENT\")\n",
    "\n",
    "agents_client = AgentsClient(\n",
    "    endpoint=AGENT_PROJECT_ENDPOINT,\n",
    "    credential=DefaultAzureCredential(\n",
    "        exclude_environment_credential=True,\n",
    "        exclude_managed_identity_credential=True\n",
    "    )\n",
    ")"
   ]
  },
  {
   "cell_type": "code",
   "execution_count": 9,
   "id": "36536510",
   "metadata": {},
   "outputs": [],
   "source": [
    "# Instructions for the primary agent\n",
    "triage_agent_instructions = \"\"\"\n",
    "Triage the given ticket. Use the connected tools to determine the ticket's priority, \n",
    "which team it should be assigned to, and how much effort it may take.\n",
    "\"\"\"\n",
    "\n",
    "# Priority agent definition\n",
    "priority_agent_name = \"priority_agent\"\n",
    "priority_agent_instructions = \"\"\"\n",
    "Assess how urgent a ticket is based on its description.\n",
    "\n",
    "Respond with one of the following levels:\n",
    "- High: User-facing or blocking issues\n",
    "- Medium: Time-sensitive but not breaking anything\n",
    "- Low: Cosmetic or non-urgent tasks\n",
    "\n",
    "Only output the urgency level and a very brief explanation.\n",
    "\"\"\"\n",
    "\n",
    "# Team agent definition\n",
    "team_agent_name = \"team_agent\"\n",
    "team_agent_instructions = \"\"\"\n",
    "Decide which team should own each ticket.\n",
    "\n",
    "Choose from the following teams:\n",
    "- Frontend\n",
    "- Backend\n",
    "- Infrastructure\n",
    "- Marketing\n",
    "\n",
    "Base your answer on the content of the ticket. Respond with the team name and a very brief explanation.\n",
    "\"\"\"\n",
    "\n",
    "# Effort agent definition\n",
    "effort_agent_name = \"effort_agent\"\n",
    "effort_agent_instructions = \"\"\"\n",
    "Estimate how much work each ticket will require.\n",
    "\n",
    "Use the following scale:\n",
    "- Small: Can be completed in a day\n",
    "- Medium: 2-3 days of work\n",
    "- Large: Multi-day or cross-team effort\n",
    "\n",
    "Base your estimate on the complexity implied by the ticket. Respond with the effort level and a brief justification.\n",
    "\"\"\"\n",
    "\n",
    "# Create the priority agent on the Azure AI agent service\n",
    "priority_agent = agents_client.create_agent(\n",
    "    model=AGENT_MODEL_DEPLOYMENT,\n",
    "    name=priority_agent_name,\n",
    "    instructions=priority_agent_instructions\n",
    ")\n",
    "# Create a connected agent tool for the priority agent\n",
    "priority_agent_tool = ConnectedAgentTool(\n",
    "    id=priority_agent.id, \n",
    "    name=priority_agent_name, \n",
    "    description=\"Assess the priority of a ticket\"\n",
    ")\n",
    "\n",
    "# Create the team agent and connected tool\n",
    "team_agent = agents_client.create_agent(\n",
    "    model=AGENT_MODEL_DEPLOYMENT,\n",
    "    name=team_agent_name,\n",
    "    instructions=team_agent_instructions\n",
    ")\n",
    "team_agent_tool = ConnectedAgentTool(\n",
    "    id=team_agent.id, \n",
    "    name=team_agent_name, \n",
    "    description=\"Determines which team should take the ticket\"\n",
    ")\n",
    "\n",
    "# Create the effort agent and connected tool\n",
    "effort_agent = agents_client.create_agent(\n",
    "    model=AGENT_MODEL_DEPLOYMENT,\n",
    "    name=effort_agent_name,\n",
    "    instructions=effort_agent_instructions\n",
    ")\n",
    "effort_agent_tool = ConnectedAgentTool(\n",
    "    id=effort_agent.id, \n",
    "    name=effort_agent_name, \n",
    "    description=\"Determines the effort required to complete the ticket\"\n",
    ")\n",
    "\n",
    "# Create a main agent with the Connected Agent tools\n",
    "agent = agents_client.create_agent(\n",
    "    model=AGENT_MODEL_DEPLOYMENT,\n",
    "    name=\"triage-agent\",\n",
    "    instructions=triage_agent_instructions,\n",
    "    tools=[\n",
    "        priority_agent_tool.definitions[0],\n",
    "        team_agent_tool.definitions[0],\n",
    "        effort_agent_tool.definitions[0]\n",
    "    ]\n",
    ")"
   ]
  },
  {
   "cell_type": "code",
   "execution_count": 10,
   "id": "88fe0fc3",
   "metadata": {},
   "outputs": [
    {
     "name": "stdout",
     "output_type": "stream",
     "text": [
      "Creating agent thread.\n"
     ]
    }
   ],
   "source": [
    "# Create thread for the chat session\n",
    "print(\"Creating agent thread.\")\n",
    "thread = agents_client.threads.create()"
   ]
  },
  {
   "cell_type": "code",
   "execution_count": 11,
   "id": "6c9097d6",
   "metadata": {},
   "outputs": [
    {
     "name": "stdout",
     "output_type": "stream",
     "text": [
      "Processing agent thread. Please wait.\n"
     ]
    }
   ],
   "source": [
    "# Create the ticket prompt\n",
    "prompt = \"Investigate occasional 502 errors from the search endpoint.”\"\n",
    "# Send a prompt to the agent\n",
    "message = agents_client.messages.create(\n",
    "    thread_id=thread.id,\n",
    "    role=MessageRole.USER,\n",
    "    content=prompt,\n",
    ")\n",
    "# Create and process Agent run in thread with tools\n",
    "print(\"Processing agent thread. Please wait.\")\n",
    "run = agents_client.runs.create_and_process(thread_id=thread.id, agent_id=agent.id)"
   ]
  },
  {
   "cell_type": "code",
   "execution_count": 12,
   "id": "bd201a9d",
   "metadata": {},
   "outputs": [
    {
     "name": "stdout",
     "output_type": "stream",
     "text": [
      "MessageRole.USER:\n",
      "Investigate occasional 502 errors from the search endpoint.”\n",
      "\n",
      "MessageRole.AGENT:\n",
      "Here's the triage for the ticket regarding the occasional 502 errors from the search endpoint:\n",
      "\n",
      "- **Priority**: High. This issue is user-facing and could block access to crucial functionality .\n",
      "- **Assigned Team**: Backend. The issue is related to server-side errors, which fall under the purview of the backend team .\n",
      "- **Effort Level**: Large. Investigating 502 errors typically requires analyzing server configurations, load balancing, and interactions between services. This process may involve collaboration across multiple teams and could extend over several days .\n",
      "\n",
      "Cleaning up agents:\n",
      "Deleted triage agent.\n",
      "Deleted priority agent.\n",
      "Deleted team agent.\n",
      "Deleted effort agent.\n"
     ]
    }
   ],
   "source": [
    "# Fetch and log all messages\n",
    "messages = agents_client.messages.list(thread_id=thread.id, order=ListSortOrder.ASCENDING)\n",
    "for message in messages:\n",
    "    if message.text_messages:\n",
    "        last_msg = message.text_messages[-1]\n",
    "        print(f\"{message.role}:\\n{last_msg.text.value}\\n\")\n",
    "\n",
    "# Delete the agent when done\n",
    "print(\"Cleaning up agents:\")\n",
    "agents_client.delete_agent(agent.id)\n",
    "print(\"Deleted triage agent.\")\n",
    "\n",
    "# Delete the connected agents when done\n",
    "agents_client.delete_agent(priority_agent.id)\n",
    "print(\"Deleted priority agent.\")\n",
    "agents_client.delete_agent(team_agent.id)\n",
    "print(\"Deleted team agent.\")\n",
    "agents_client.delete_agent(effort_agent.id)\n",
    "print(\"Deleted effort agent.\")"
   ]
  }
 ],
 "metadata": {
  "kernelspec": {
   "display_name": ".venv",
   "language": "python",
   "name": "python3"
  },
  "language_info": {
   "codemirror_mode": {
    "name": "ipython",
    "version": 3
   },
   "file_extension": ".py",
   "mimetype": "text/x-python",
   "name": "python",
   "nbconvert_exporter": "python",
   "pygments_lexer": "ipython3",
   "version": "3.12.10"
  }
 },
 "nbformat": 4,
 "nbformat_minor": 5
}
