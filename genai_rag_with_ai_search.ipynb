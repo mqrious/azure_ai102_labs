{
 "cells": [
  {
   "cell_type": "markdown",
   "id": "fa443a39",
   "metadata": {},
   "source": [
    "# Setup\n",
    "\n",
    "I've created a free AI Search instance for this lab.\n",
    "\n",
    "The sample data is about the [2024 UEFA Euro tournament](data/2024_UEFA_Euro.txt), indexed in Azure AI Search."
   ]
  },
  {
   "cell_type": "code",
   "execution_count": 21,
   "id": "83c96aa1",
   "metadata": {},
   "outputs": [],
   "source": [
    "import os\n",
    "\n",
    "from openai import AzureOpenAI\n",
    "from dotenv import load_dotenv\n",
    "\n",
    "load_dotenv()\n",
    "\n",
    "OPENAI_ENDPOINT = os.getenv(\"OPENAI_ENDPOINT\")\n",
    "OPENAI_API_KEY = os.getenv(\"OPENAI_API_KEY\")\n",
    "MODEL_DEPLOYMENT = os.getenv(\"MODEL_DEPLOYMENT\")\n",
    "API_VERSION = os.getenv(\"API_VERSION\")\n",
    "\n",
    "AI_SEARCH_ENDPOINT = os.getenv(\"AI_SEARCH_ENDPOINT\")\n",
    "AI_SEARCH_KEY = os.getenv(\"AI_SEARCH_KEY\")\n",
    "AI_SEARCH_INDEX_NAME = os.getenv(\"AI_SEARCH_INDEX_NAME\")\n",
    "EMBEDDING_MODEL_DEPLOYMENT = os.getenv(\"EMBEDDING_MODEL_DEPLOYMENT\")"
   ]
  },
  {
   "cell_type": "code",
   "execution_count": 22,
   "id": "f630c9fc",
   "metadata": {},
   "outputs": [],
   "source": [
    "chat_client = AzureOpenAI(\n",
    "    api_version=API_VERSION,\n",
    "    azure_endpoint=OPENAI_ENDPOINT,\n",
    "    api_key=OPENAI_API_KEY,\n",
    ")"
   ]
  },
  {
   "cell_type": "markdown",
   "id": "88d64b3d",
   "metadata": {},
   "source": [
    "# Usage"
   ]
  },
  {
   "cell_type": "code",
   "execution_count": 37,
   "id": "82a9d3f9",
   "metadata": {},
   "outputs": [],
   "source": [
    "prompt = [\n",
    "    {\"role\": \"system\", \"content\": \"You are a helpful AI assistant.\"},\n",
    "    {\"role\": \"user\", \"content\": \"Who are the players that score in the 2024 Euro final? And what are the players that won the personal prizes?\"}\n",
    "]"
   ]
  },
  {
   "cell_type": "markdown",
   "id": "76fd35d6",
   "metadata": {},
   "source": [
    "## Without RAG"
   ]
  },
  {
   "cell_type": "code",
   "execution_count": 50,
   "id": "fcadf953",
   "metadata": {},
   "outputs": [
    {
     "name": "stdout",
     "output_type": "stream",
     "text": [
      "I don't have real-time data access, including the results of the 2024 Euro final or the personal prizes awarded. For the most accurate and up-to-date information, please refer to official sources such as UEFA's website, sports news outlets, or the official Euro 2024 tournament website.\n"
     ]
    }
   ],
   "source": [
    "response = chat_client.chat.completions.create(\n",
    "    model=MODEL_DEPLOYMENT,\n",
    "    messages=prompt,\n",
    "    temperature=0,\n",
    ")\n",
    "\n",
    "print(response.choices[0].message.content)"
   ]
  },
  {
   "cell_type": "markdown",
   "id": "e5a62bd9",
   "metadata": {},
   "source": [
    "## With RAG (keyword-based search)"
   ]
  },
  {
   "cell_type": "code",
   "execution_count": 51,
   "id": "24962beb",
   "metadata": {},
   "outputs": [
    {
     "name": "stdout",
     "output_type": "stream",
     "text": [
      "The players that scored in the 2024 Euro final were Nico Williams, who scored for Spain, and Cole Palmer, who scored for England [doc1][doc2]. The players that won the personal prizes were Rodri, who won the Player of the Tournament, and Lamine Yamal, who won the Young Player of the Tournament [doc1].\n"
     ]
    }
   ],
   "source": [
    "# Additional parameters to apply RAG pattern using the AI Search index\n",
    "rag_params = {\n",
    "    \"data_sources\": [\n",
    "        {\n",
    "            \"type\": \"azure_search\",\n",
    "            \"parameters\": {\n",
    "                \"endpoint\": AI_SEARCH_ENDPOINT,\n",
    "                \"index_name\": AI_SEARCH_INDEX_NAME,\n",
    "                \"authentication\": {\n",
    "                    \"type\": \"api_key\",\n",
    "                    \"key\": AI_SEARCH_KEY,\n",
    "                }\n",
    "            }\n",
    "        }\n",
    "    ],\n",
    "}\n",
    "\n",
    "response = chat_client.chat.completions.create(\n",
    "    model=MODEL_DEPLOYMENT,\n",
    "    messages=prompt,\n",
    "    temperature=0,\n",
    "    extra_body=rag_params\n",
    ")\n",
    "\n",
    "print(response.choices[0].message.content)"
   ]
  },
  {
   "cell_type": "markdown",
   "id": "74453249",
   "metadata": {},
   "source": [
    "## With RAG (vector-based search)"
   ]
  },
  {
   "cell_type": "code",
   "execution_count": 49,
   "id": "f12ec293",
   "metadata": {},
   "outputs": [
    {
     "name": "stdout",
     "output_type": "stream",
     "text": [
      "In the 2024 UEFA Euro final, the players who scored were Lamine Yamal for Spain and Cole Palmer for England [doc1][doc2]. The players who won the personal prizes were Rodri for the Player of the Tournament and Lamine Yamal for the Young Player of the Tournament [doc1].\n"
     ]
    }
   ],
   "source": [
    "rag_params = {\n",
    "    \"data_sources\": [\n",
    "        {\n",
    "            \"type\": \"azure_search\",\n",
    "            \"parameters\": {\n",
    "                \"endpoint\": AI_SEARCH_ENDPOINT,\n",
    "                \"index_name\": AI_SEARCH_INDEX_NAME,\n",
    "                \"authentication\": {\n",
    "                    \"type\": \"api_key\",\n",
    "                    \"key\": AI_SEARCH_KEY,\n",
    "                },\n",
    "                # Params for vector-based query\n",
    "                \"query_type\": \"vector\",\n",
    "                \"embedding_dependency\": {\n",
    "                    \"type\": \"deployment_name\",\n",
    "                    \"deployment_name\": EMBEDDING_MODEL_DEPLOYMENT,\n",
    "                },\n",
    "            }\n",
    "        }\n",
    "    ],\n",
    "}\n",
    "\n",
    "response = chat_client.chat.completions.create(\n",
    "    model=MODEL_DEPLOYMENT,\n",
    "    messages=prompt,\n",
    "    temperature=0,\n",
    "    extra_body=rag_params\n",
    ")\n",
    "\n",
    "print(response.choices[0].message.content)"
   ]
  }
 ],
 "metadata": {
  "kernelspec": {
   "display_name": "azure_ai102_labs",
   "language": "python",
   "name": "python3"
  },
  "language_info": {
   "codemirror_mode": {
    "name": "ipython",
    "version": 3
   },
   "file_extension": ".py",
   "mimetype": "text/x-python",
   "name": "python",
   "nbconvert_exporter": "python",
   "pygments_lexer": "ipython3",
   "version": "3.12.10"
  }
 },
 "nbformat": 4,
 "nbformat_minor": 5
}
