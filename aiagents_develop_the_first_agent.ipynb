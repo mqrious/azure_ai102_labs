{
 "cells": [
  {
   "cell_type": "code",
   "execution_count": 1,
   "id": "c34616c3",
   "metadata": {},
   "outputs": [],
   "source": [
    "import os\n",
    "\n",
    "from dotenv import load_dotenv\n",
    "\n",
    "from azure.identity import DefaultAzureCredential\n",
    "from azure.ai.agents import AgentsClient\n",
    "from azure.ai.agents.models import FilePurpose, CodeInterpreterTool, ListSortOrder, MessageRole\n",
    "\n",
    "load_dotenv()\n",
    "\n",
    "AGENT_PROJECT_ENDPOINT = os.getenv(\"AGENT_PROJECT_ENDPOINT\")\n",
    "AGENT_MODEL_DEPLOYMENT = os.getenv(\"AGENT_MODEL_DEPLOYMENT\")\n",
    "\n",
    "agent_client = AgentsClient(\n",
    "    endpoint=AGENT_PROJECT_ENDPOINT,\n",
    "    credential=DefaultAzureCredential\n",
    "        (exclude_environment_credential=True,\n",
    "         exclude_managed_identity_credential=True)\n",
    ")"
   ]
  },
  {
   "cell_type": "code",
   "execution_count": 4,
   "id": "a53a3410",
   "metadata": {},
   "outputs": [],
   "source": [
    "for agent in agent_client.list_agents():\n",
    "    print(agent.name)"
   ]
  },
  {
   "cell_type": "code",
   "execution_count": null,
   "id": "39a286b6",
   "metadata": {},
   "outputs": [
    {
     "data": {
      "text/plain": [
       "{'object': 'file', 'id': 'assistant-MFAiZciP4tzbdPSy1YsTdX', 'purpose': 'assistants', 'filename': 'data.txt', 'bytes': 86, 'created_at': 1751177528, 'expires_at': None, 'status': 'processed', 'status_details': None}"
      ]
     },
     "execution_count": 14,
     "metadata": {},
     "output_type": "execute_result"
    }
   ],
   "source": [
    "# Upload the data file\n",
    "\n",
    "file_content = \"\"\"Category,Cost\n",
    "Accommodation, 674.56\n",
    "Transportation, 2301.00\n",
    "Meals, 267.89\n",
    "Misc., 34.50\"\"\"\n",
    "file_name = \"data.txt\"\n",
    "\n",
    "file = (file_name, file_content)\n",
    "\n",
    "upload_result = agent_client.files.upload_and_poll(\n",
    "    file=file, purpose=FilePurpose.AGENTS\n",
    ")\n",
    "upload_result"
   ]
  },
  {
   "cell_type": "code",
   "execution_count": null,
   "id": "9cbcff0d",
   "metadata": {},
   "outputs": [],
   "source": [
    "# Create a CodeInterpreterTool\n",
    "code_interpreter = CodeInterpreterTool(file_ids=[upload_result.id])"
   ]
  },
  {
   "cell_type": "code",
   "execution_count": 16,
   "id": "8d52275d",
   "metadata": {},
   "outputs": [
    {
     "name": "stdout",
     "output_type": "stream",
     "text": [
      "Using agent: data-agent\n"
     ]
    }
   ],
   "source": [
    "# Define an agent that uses the CodeInterpreterTool\n",
    "agent = agent_client.create_agent(\n",
    "     model=AGENT_MODEL_DEPLOYMENT,\n",
    "     name=\"data-agent\",\n",
    "     instructions=\"You are an AI agent that analyzes the data in the file that has been uploaded. Use Python to calculate statistical metrics as necessary.\",\n",
    "     tools=code_interpreter.definitions,\n",
    "     tool_resources=code_interpreter.resources,\n",
    ")\n",
    "print(f\"Using agent: {agent.name}\")"
   ]
  },
  {
   "cell_type": "code",
   "execution_count": 17,
   "id": "9500a91c",
   "metadata": {},
   "outputs": [],
   "source": [
    "# Create a thread for the conversation\n",
    "thread = agent_client.threads.create()\n",
    "\n",
    "# Send a prompt to the agent\n",
    "message = agent_client.messages.create(\n",
    "     thread_id=thread.id,\n",
    "     role=\"user\",\n",
    "     content=\"Can you help me analyze this data using Python code?\",\n",
    " )\n",
    "\n",
    "run = agent_client.runs.create_and_process(thread_id=thread.id, agent_id=agent.id)"
   ]
  },
  {
   "cell_type": "code",
   "execution_count": 18,
   "id": "2c9309c2",
   "metadata": {},
   "outputs": [],
   "source": [
    "# Check the run status for failures\n",
    "if run.status == \"failed\":\n",
    "     print(f\"Run failed: {run.last_error}\")"
   ]
  },
  {
   "cell_type": "code",
   "execution_count": 19,
   "id": "20e802ae",
   "metadata": {},
   "outputs": [
    {
     "name": "stdout",
     "output_type": "stream",
     "text": [
      "\n",
      "Conversation Log:\n",
      "\n",
      "MessageRole.USER: Can you help me analyze this data using Python code?\n",
      "\n",
      "MessageRole.AGENT: Sure, I'd be happy to help you analyze the data. First, let's take a look at the contents of the uploaded file to understand its structure and the type of data it contains. I'll read the file and display its contents.\n",
      "\n",
      "MessageRole.AGENT: The file appears to be a CSV (Comma-Separated Values) format containing two columns: \"Category\" and \"Cost.\" Here's a quick overview of the data structure:\n",
      "\n",
      "```\n",
      "Category,Cost\n",
      "Accommodation,674.56\n",
      "Transportation,2301.00\n",
      "Meals,267.89\n",
      "Misc.,34.50\n",
      "```\n",
      "\n",
      "Next, let's read the entire CSV file into a DataFrame for analysis and calculate some statistical metrics. I'll do that now.\n",
      "\n",
      "MessageRole.AGENT: The data has been successfully loaded into a DataFrame. Here's a summary of the contents:\n",
      "\n",
      "### Data Overview:\n",
      "|   | Category       | Cost   |\n",
      "|---|----------------|--------|\n",
      "| 0 | Accommodation  | 674.56 |\n",
      "| 1 | Transportation | 2301.00|\n",
      "| 2 | Meals          | 267.89 |\n",
      "| 3 | Misc.          | 34.50  |\n",
      "\n",
      "### Statistical Summary of Costs:\n",
      "- **Count**: 4\n",
      "- **Mean**: 819.49\n",
      "- **Standard Deviation**: 1022.47\n",
      "- **Minimum Cost**: 34.50\n",
      "- **25th Percentile**: 209.54\n",
      "- **Median (50th Percentile)**: 471.23\n",
      "- **75th Percentile**: 1081.17\n",
      "- **Maximum Cost**: 2301.00\n",
      "\n",
      "### Observations:\n",
      "1. The average cost across categories is approximately 819.49.\n",
      "2. There's a high standard deviation, indicating a wide variation in the costs (especially due to the high cost of transportation).\n",
      "3. The costs range from a minimum of 34.50 to a maximum of 2301.00.\n",
      "\n",
      "Do you have any specific analyses or metrics you would like to explore further with this data?\n",
      "\n"
     ]
    }
   ],
   "source": [
    "# Get the conversation history\n",
    "print(\"\\nConversation Log:\\n\")\n",
    "messages = agent_client.messages.list(thread_id=thread.id, order=ListSortOrder.ASCENDING)\n",
    "for message in messages:\n",
    "    if message.text_messages:\n",
    "        last_msg = message.text_messages[-1]\n",
    "        print(f\"{message.role}: {last_msg.text.value}\\n\")"
   ]
  },
  {
   "cell_type": "code",
   "execution_count": 3,
   "id": "56a0e887",
   "metadata": {},
   "outputs": [],
   "source": [
    "# Clean up\n",
    "agent_client.delete_agent(agent.id)"
   ]
  }
 ],
 "metadata": {
  "kernelspec": {
   "display_name": ".venv",
   "language": "python",
   "name": "python3"
  },
  "language_info": {
   "codemirror_mode": {
    "name": "ipython",
    "version": 3
   },
   "file_extension": ".py",
   "mimetype": "text/x-python",
   "name": "python",
   "nbconvert_exporter": "python",
   "pygments_lexer": "ipython3",
   "version": "3.12.10"
  }
 },
 "nbformat": 4,
 "nbformat_minor": 5
}
