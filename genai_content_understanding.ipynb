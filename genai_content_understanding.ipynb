{
 "cells": [
  {
   "cell_type": "markdown",
   "id": "1c0021d5",
   "metadata": {},
   "source": [
    "# Azure AI Content Understanding (public preview)\n",
    "\n",
    "This service is available in the Azure AI Foundry portal and through REST API.\n",
    "\n",
    "Supported content type:\n",
    "- Documents and forms\n",
    "- Images\n",
    "- Audio\n",
    "- Video\n",
    "\n",
    "> Personal note:\n",
    ">\n",
    "> It seems like Azure made this new service by combining their existing services:\n",
    "> - AI Document Intelligence: for document, form, and image analysis.\n",
    "> - AI Video Indexer: for audio and video analysis.\n",
    "\n",
    "The service provides some pre-built analyzers:\n",
    "- For content ingestion:\n",
    "    - `prebuilt-documentAnalyzer`: extracts text and layout from document and images, produces summary.\n",
    "    - `prebuilt-imageAnalyzer`: generates image caption.\n",
    "    - `prebuilt-audioAnalyzer`: transcribes audio, performs speaker diarization, produces summary.\n",
    "    - `prebuilt-videoAnalyzer`: transcribes video, identifies keyframes/camera shots, segments video, generate summary for the segments.\n",
    "- For intelligent document processing:\n",
    "    - `prebuilt-invoice`: extracts text/layout, structured data from invoice documents/images.\n",
    "    - `prebuilt-callCenter`: transcribes, diarizes speakers, generates summaries, customer sentiment analysis, discussion topics.\n"
   ]
  },
  {
   "cell_type": "markdown",
   "id": "5139ebf7",
   "metadata": {},
   "source": [
    "# Setup"
   ]
  },
  {
   "cell_type": "code",
   "execution_count": 66,
   "id": "5f8af75c",
   "metadata": {},
   "outputs": [],
   "source": [
    "import os\n",
    "import requests\n",
    "import io\n",
    "import json\n",
    "\n",
    "from dotenv import load_dotenv\n",
    "from urllib.parse import urljoin\n",
    "\n",
    "load_dotenv()\n",
    "\n",
    "CU_SERVICE_ENDPOINT = os.getenv(\"CU_SERVICE_ENDPOINT\")\n",
    "CU_SERVICE_KEY = os.getenv(\"CU_SERVICE_KEY\")"
   ]
  },
  {
   "cell_type": "markdown",
   "id": "e2d0de37",
   "metadata": {},
   "source": [
    "# Usage"
   ]
  },
  {
   "cell_type": "markdown",
   "id": "1de49a2c",
   "metadata": {},
   "source": [
    "## Document analysis\n",
    "\n",
    "Experiment on an electric bill image\n",
    "\n",
    "<img src=\"https://thanhnien.mediacdn.vn/Uploaded/hongky-qc/2022_07_02/mau-hoa-don-tien-dien-moi-9838.jpg\" alt=\"The electric bill\" width=\"400\"/>\n"
   ]
  },
  {
   "cell_type": "code",
   "execution_count": 70,
   "id": "86825dde",
   "metadata": {},
   "outputs": [
    {
     "name": "stdout",
     "output_type": "stream",
     "text": [
      "{'Transfer-Encoding': 'chunked', 'Content-Type': 'application/json', 'request-id': 'bbdf50bc-7b13-4857-a1be-e5629d7ba663', 'x-ms-request-id': 'bbdf50bc-7b13-4857-a1be-e5629d7ba663', 'Operation-Location': 'https://ai-buiminhquanhcmus-3831-westus.cognitiveservices.azure.com/contentunderstanding/analyzerResults/bbdf50bc-7b13-4857-a1be-e5629d7ba663?api-version=2025-05-01-preview', 'api-supported-versions': '2024-12-01-preview,2025-05-01-preview', 'x-envoy-upstream-service-time': '8064', 'apim-request-id': 'bbdf50bc-7b13-4857-a1be-e5629d7ba663', 'Strict-Transport-Security': 'max-age=31536000; includeSubDomains; preload', 'x-content-type-options': 'nosniff', 'x-ms-region': 'West US', 'Date': 'Sat, 28 Jun 2025 04:25:14 GMT'}\n",
      "{'id': 'bbdf50bc-7b13-4857-a1be-e5629d7ba663', 'status': 'Running', 'result': {'analyzerId': 'prebuilt-invoice', 'apiVersion': '2025-05-01-preview', 'createdAt': '2025-06-28T04:25:07Z', 'warnings': [], 'contents': []}}\n"
     ]
    }
   ],
   "source": [
    "image_url = \"https://thanhnien.mediacdn.vn/Uploaded/hongky-qc/2022_07_02/mau-hoa-don-tien-dien-moi-9838.jpg\"\n",
    "analyzer = \"prebuilt-invoice\"\n",
    "api_version = \"2025-05-01-preview\"\n",
    "\n",
    "doc_cu_response = requests.post(\n",
    "    url=str(urljoin(CU_SERVICE_ENDPOINT, f\"/contentunderstanding/analyzers/{analyzer}:analyze?api-version={api_version}\")),\n",
    "    headers={\n",
    "        \"Ocp-Apim-Subscription-Key\": CU_SERVICE_KEY,\n",
    "        # \"Content-Type\": \"application/json\"\n",
    "    },\n",
    "    data=json.dumps({\n",
    "        \"url\": image_url\n",
    "    })\n",
    ")\n",
    "print(doc_cu_response.headers)\n",
    "print(doc_cu_response.json())"
   ]
  },
  {
   "cell_type": "code",
   "execution_count": 71,
   "id": "0a0f14c9",
   "metadata": {},
   "outputs": [
    {
     "data": {
      "text/plain": [
       "'https://ai-buiminhquanhcmus-3831-westus.cognitiveservices.azure.com/contentunderstanding/analyzers/prebuilt-invoice/results/bbdf50bc-7b13-4857-a1be-e5629d7ba663?api-version=2025-05-01-preview'"
      ]
     },
     "execution_count": 71,
     "metadata": {},
     "output_type": "execute_result"
    }
   ],
   "source": [
    "id = doc_cu_response.json()[\"id\"]\n",
    "urljoin(CU_SERVICE_ENDPOINT, f\"/contentunderstanding/analyzers/{analyzer}/results/{id}?api-version={api_version}\")"
   ]
  },
  {
   "cell_type": "code",
   "execution_count": 72,
   "id": "b9bcda1d",
   "metadata": {},
   "outputs": [
    {
     "name": "stdout",
     "output_type": "stream",
     "text": [
      "{'error': {'code': '404', 'message': 'Resource not found'}}\n"
     ]
    }
   ],
   "source": [
    "# Implemented following the 'Use the Content Understanding REST API' \n",
    "# at https://learn.microsoft.com/en-us/training/modules/analyze-content-ai/04-use-api\n",
    "\n",
    "# Not working, wrong URL\n",
    "doc_cu_status = requests.get(\n",
    "    url=urljoin(CU_SERVICE_ENDPOINT, f\"/contentunderstanding/analyzers/{analyzer}/results/{id}?api-version={api_version}\"),\n",
    "    headers={\n",
    "        \"Ocp-Apim-Subscription-Key\": CU_SERVICE_KEY\n",
    "    },\n",
    ")\n",
    "print(doc_cu_status.json())"
   ]
  },
  {
   "cell_type": "code",
   "execution_count": 73,
   "id": "606b58e3",
   "metadata": {},
   "outputs": [
    {
     "name": "stdout",
     "output_type": "stream",
     "text": [
      "{'error': {'code': 'NotFound', 'message': 'Resource not found.', 'innererror': {'code': 'ModelNotFound', 'message': 'The requested model was not found.'}}}\n"
     ]
    }
   ],
   "source": [
    "# Implemented following the 'Quickstart: Use Azure AI Content Understanding REST API' \n",
    "# at https://learn.microsoft.com/en-us/azure/ai-services/content-understanding/quickstart/use-rest-api?tabs=document\n",
    "\n",
    "# Not working, wrong URL\n",
    "doc_cu_status = requests.get(\n",
    "    url=urljoin(CU_SERVICE_ENDPOINT, f\"/contentunderstanding/analyzers/{id}?api-version={api_version}\"),\n",
    "    headers={\n",
    "        \"Ocp-Apim-Subscription-Key\": CU_SERVICE_KEY\n",
    "    },\n",
    ")\n",
    "print(doc_cu_status.json())"
   ]
  },
  {
   "cell_type": "code",
   "execution_count": 76,
   "id": "fd567173",
   "metadata": {},
   "outputs": [
    {
     "name": "stdout",
     "output_type": "stream",
     "text": [
      "{'Transfer-Encoding': 'chunked', 'Content-Type': 'application/json', 'request-id': '4c5799ee-fe36-44f9-9479-fb7c49acbe17', 'x-ms-request-id': '4c5799ee-fe36-44f9-9479-fb7c49acbe17', 'api-supported-versions': '2024-12-01-preview,2025-05-01-preview', 'x-envoy-upstream-service-time': '27', 'apim-request-id': '4c5799ee-fe36-44f9-9479-fb7c49acbe17', 'Strict-Transport-Security': 'max-age=31536000; includeSubDomains; preload', 'x-content-type-options': 'nosniff', 'x-ms-region': 'West US', 'Date': 'Sat, 28 Jun 2025 04:25:44 GMT'}\n",
      "{'id': 'bbdf50bc-7b13-4857-a1be-e5629d7ba663', 'status': 'Running', 'result': {'analyzerId': 'prebuilt-invoice', 'apiVersion': '2025-05-01-preview', 'createdAt': '2025-06-28T04:25:07Z', 'warnings': [], 'contents': []}}\n"
     ]
    }
   ],
   "source": [
    "# Let's try using the 'Operation-Location' in the headers\n",
    "\n",
    "doc_cu_status = requests.get(\n",
    "    url=doc_cu_response.headers[\"Operation-Location\"],\n",
    "    headers={\n",
    "        \"Ocp-Apim-Subscription-Key\": CU_SERVICE_KEY\n",
    "    },\n",
    ")\n",
    "\n",
    "print(doc_cu_status.headers)\n",
    "print(doc_cu_status.json())"
   ]
  },
  {
   "cell_type": "markdown",
   "id": "b306423f",
   "metadata": {},
   "source": [
    "The document is being processed, let's wait and try again in a few seconds."
   ]
  },
  {
   "cell_type": "code",
   "execution_count": 80,
   "id": "d13b8396",
   "metadata": {},
   "outputs": [
    {
     "name": "stdout",
     "output_type": "stream",
     "text": [
      "{'Transfer-Encoding': 'chunked', 'Content-Type': 'application/json', 'request-id': 'bc87551e-2495-4fc7-995e-be3b84b6bf80', 'x-ms-request-id': 'bc87551e-2495-4fc7-995e-be3b84b6bf80', 'api-supported-versions': '2024-12-01-preview,2025-05-01-preview', 'x-envoy-upstream-service-time': '29', 'apim-request-id': 'bc87551e-2495-4fc7-995e-be3b84b6bf80', 'Strict-Transport-Security': 'max-age=31536000; includeSubDomains; preload', 'x-content-type-options': 'nosniff', 'x-ms-region': 'West US', 'Date': 'Sat, 28 Jun 2025 04:27:40 GMT'}\n",
      "{'id': 'bbdf50bc-7b13-4857-a1be-e5629d7ba663', 'status': 'Running', 'result': {'analyzerId': 'prebuilt-invoice', 'apiVersion': '2025-05-01-preview', 'createdAt': '2025-06-28T04:25:07Z', 'warnings': [], 'contents': []}}\n"
     ]
    }
   ],
   "source": [
    "doc_cu_status = requests.get(\n",
    "    url=doc_cu_response.headers[\"Operation-Location\"],\n",
    "    headers={\n",
    "        \"Ocp-Apim-Subscription-Key\": CU_SERVICE_KEY\n",
    "    },\n",
    ")\n",
    "\n",
    "print(doc_cu_status.headers)\n",
    "print(doc_cu_status.json())"
   ]
  },
  {
   "cell_type": "markdown",
   "id": "0036c5cc",
   "metadata": {},
   "source": [
    "The process failed multiple times. Let's try using the FormRecognizer SDK"
   ]
  },
  {
   "cell_type": "code",
   "execution_count": 54,
   "id": "2426ffd1",
   "metadata": {},
   "outputs": [],
   "source": [
    "from azure.core.credentials import AzureKeyCredential\n",
    "from azure.ai.formrecognizer import DocumentAnalysisClient\n",
    "\n",
    "da_client = DocumentAnalysisClient(\n",
    "    endpoint=CU_SERVICE_ENDPOINT, \n",
    "    credential=AzureKeyCredential(CU_SERVICE_KEY)\n",
    ")"
   ]
  },
  {
   "cell_type": "code",
   "execution_count": 55,
   "id": "6e9d0323",
   "metadata": {},
   "outputs": [],
   "source": [
    "response = da_client.begin_analyze_document_from_url(analyzer, image_url)\n",
    "result = response.result()"
   ]
  },
  {
   "cell_type": "code",
   "execution_count": 57,
   "id": "b88f41db",
   "metadata": {},
   "outputs": [
    {
     "name": "stdout",
     "output_type": "stream",
     "text": [
      "--------Analyzing document #1--------\n",
      "Document has type invoice\n",
      "Document has confidence 1.0\n",
      "Document was analyzed by model with ID prebuilt-invoice\n",
      "Found field 'CustomerAddress' with value 'AddressValue(house_number=None, po_box=None, road=None, city=None, state=None, postal_code=None, country_region=None, street_address=, unit=None, city_district=None, state_district=None, suburb=Nguyễn Trãi, house=None, level=None)' and with confidence 0.926\n",
      "Found field 'CustomerAddressRecipient' with value 'BÌNH' and with confidence 0.839\n",
      "Found field 'CustomerName' with value 'BÌNH' and with confidence 0.839\n",
      "Found field 'InvoiceDate' with value 'Ngày (Date) 29 tháng (month) 06 năm (year) 2022' and with confidence 0.689\n",
      "Found field 'InvoiceId' with value '7166' and with confidence 0.957\n",
      "Found field 'InvoiceTotal' with value '1018449.0' and with confidence 0.95\n",
      "Found field 'Items' with value '[DocumentField(value_type=dictionary, value={'Amount': DocumentField(value_type=currency, value=CurrencyValue(amount=943.008, symbol=None, code=VND), content=943.008, bounding_regions=[BoundingRegion(page_number=1, polygon=[Point(x=1746.0, y=1201.0), Point(x=1848.0, y=1201.0), Point(x=1848.0, y=1233.0), Point(x=1747.0, y=1232.0)])], spans=[DocumentSpan(offset=1074, length=7)], confidence=0.945), 'Description': DocumentField(value_type=string, value='Điện tiêu thụ tháng 6 năm 2022 từ ngày 29/05/2022 đến ngày\\n27/06/2022\\n(kèm theo bảng kê số 540012270 ngày )', content=Điện tiêu thụ tháng 6 năm 2022 từ ngày 29/05/2022 đến ngày\n",
      "27/06/2022\n",
      "(kèm theo bảng kê số 540012270 ngày\n",
      "), bounding_regions=[BoundingRegion(page_number=1, polygon=[Point(x=162.0, y=1177.0), Point(x=946.0, y=1177.0), Point(x=946.0, y=1312.0), Point(x=162.0, y=1312.0)])], spans=[DocumentSpan(offset=994, length=69), DocumentSpan(offset=1082, length=35), DocumentSpan(offset=1139, length=1)], confidence=0.142), 'Quantity': DocumentField(value_type=float, value=412.0, content=412, bounding_regions=[BoundingRegion(page_number=1, polygon=[Point(x=1228.0, y=1201.0), Point(x=1277.0, y=1201.0), Point(x=1277.0, y=1231.0), Point(x=1228.0, y=1231.0)])], spans=[DocumentSpan(offset=1068, length=3)], confidence=0.943), 'Unit': DocumentField(value_type=string, value='kWh', content=kWh, bounding_regions=[BoundingRegion(page_number=1, polygon=[Point(x=1014.0, y=1201.0), Point(x=1076.0, y=1201.0), Point(x=1076.0, y=1231.0), Point(x=1014.0, y=1231.0)])], spans=[DocumentSpan(offset=1064, length=3)], confidence=0.939)}, content=1\n",
      "Điện tiêu thụ tháng 6 năm 2022 từ ngày 29/05/2022 đến ngày\n",
      "27/06/2022\n",
      "kWh\n",
      "412\n",
      "-\n",
      "943.008\n",
      "(kèm theo bảng kê số 540012270 ngày 29 tháng 06 năm 2022 ), bounding_regions=[BoundingRegion(page_number=1, polygon=[Point(x=106.0, y=1177.0), Point(x=1848.0, y=1177.0), Point(x=1848.0, y=1312.0), Point(x=106.0, y=1312.0)])], spans=[DocumentSpan(offset=992, length=148)], confidence=0.27)]' and with confidence None\n",
      "Found field 'PaymentTerm' with value 'TM/CK' and with confidence 0.94\n",
      "Found field 'ServiceEndDate' with value '2022-06-27' and with confidence 0.441\n",
      "Found field 'ServiceStartDate' with value '2022-05-29' and with confidence 0.58\n",
      "Found field 'SubTotal' with value '943.008' and with confidence 0.957\n",
      "Found field 'TotalTax' with value '75.441' and with confidence 0.95\n",
      "Found field 'VendorAddress' with value 'AddressValue(house_number=None, po_box=None, road=Số 01 Đường Võ Văn Tần, Phường Võ Thị Sáu, city=Thành phố Hồ Chí Minh, state=None, postal_code=None, country_region=Việt Nam, street_address=Số 01 Đường Võ Văn Tần, Phường Võ Thị Sáu, unit=None, city_district=None, state_district=None, suburb=Quận 3, house=None, level=None)' and with confidence 0.723\n",
      "Found field 'VendorAddressRecipient' with value 'CHI NHÁNH TỔNG CÔNG TY ĐIỆN LỰC THÀNH PHỐ HỒ CHÍ MINH TNHH -\n",
      "CÔNG TY ĐIỆN LỰC SÀI GÒN' and with confidence 0.688\n",
      "Found field 'VendorName' with value 'EVN' and with confidence 0.847\n",
      "Found field 'VendorTaxId' with value '0300951119-001' and with confidence 0.943\n"
     ]
    }
   ],
   "source": [
    "for idx, document in enumerate(result.documents):\n",
    "    print(\"--------Analyzing document #{}--------\".format(idx + 1))\n",
    "    print(\"Document has type {}\".format(document.doc_type))\n",
    "    print(\"Document has confidence {}\".format(document.confidence))\n",
    "    print(\"Document was analyzed by model with ID {}\".format(result.model_id))\n",
    "    for name, field in document.fields.items():\n",
    "        field_value = field.value if field.value else field.content\n",
    "        print(\"Found field '{}' with value '{}' and with confidence {}\".format(name, field_value, field.confidence))"
   ]
  },
  {
   "cell_type": "markdown",
   "id": "0d40fe19",
   "metadata": {},
   "source": [
    "This service has been updated over time:\n",
    "\n",
    "Form Recognizer (old version) -> AI Document Intelligence (GA) -> Content Understanding (preview)"
   ]
  },
  {
   "cell_type": "markdown",
   "id": "b2ca4835",
   "metadata": {},
   "source": [
    "## Audio analysis\n",
    "\n",
    "<video controls src=\"https://github.com/MicrosoftLearning/mslearn-ai-information-extraction/raw/refs/heads/main/Instructions/Labs/media/call-1.mp4\" title=\"Call 1\" width=\"300\">\n",
    "    <track src=\"https://github.com/MicrosoftLearning/mslearn-ai-information-extraction/raw/refs/heads/main/Instructions/Labs/media/call-1.vtt\" kind=\"captions\" srclang=\"en\" label=\"English\">\n",
    "</video>\n"
   ]
  },
  {
   "cell_type": "code",
   "execution_count": 67,
   "id": "64ec8755",
   "metadata": {},
   "outputs": [
    {
     "name": "stdout",
     "output_type": "stream",
     "text": [
      "{'Transfer-Encoding': 'chunked', 'Content-Type': 'application/json', 'request-id': '4c2c6c46-8390-4a0a-984a-518d27d4a9f9', 'x-ms-request-id': '4c2c6c46-8390-4a0a-984a-518d27d4a9f9', 'Operation-Location': 'https://ai-buiminhquanhcmus-3831-westus.cognitiveservices.azure.com/contentunderstanding/analyzerResults/4c2c6c46-8390-4a0a-984a-518d27d4a9f9?api-version=2025-05-01-preview', 'api-supported-versions': '2024-12-01-preview,2025-05-01-preview', 'x-envoy-upstream-service-time': '1496', 'apim-request-id': '4c2c6c46-8390-4a0a-984a-518d27d4a9f9', 'Strict-Transport-Security': 'max-age=31536000; includeSubDomains; preload', 'x-content-type-options': 'nosniff', 'x-ms-region': 'West US', 'Date': 'Sat, 28 Jun 2025 04:24:29 GMT'}\n",
      "{'id': '4c2c6c46-8390-4a0a-984a-518d27d4a9f9', 'status': 'Running', 'result': {'analyzerId': 'prebuilt-audioAnalyzer', 'apiVersion': '2025-05-01-preview', 'createdAt': '2025-06-28T04:24:29Z', 'warnings': [], 'contents': []}}\n"
     ]
    }
   ],
   "source": [
    "audio_url = \"https://github.com/MicrosoftLearning/mslearn-ai-information-extraction/raw/refs/heads/main/Instructions/Labs/media/call-1.mp4\"\n",
    "audio_analyzer = \"prebuilt-audioAnalyzer\"\n",
    "api_version = \"2025-05-01-preview\"\n",
    "\n",
    "audio_cu_response = requests.post(\n",
    "    url=str(urljoin(CU_SERVICE_ENDPOINT, f\"/contentunderstanding/analyzers/{audio_analyzer}:analyze?api-version={api_version}\")),\n",
    "    headers={\n",
    "        \"Ocp-Apim-Subscription-Key\": CU_SERVICE_KEY,\n",
    "        # \"Content-Type\": \"application/json\"\n",
    "        \"x-ms-useragent\": \"azure-ai102-labs\"\n",
    "    },\n",
    "    data=json.dumps({\n",
    "        \"url\": audio_url\n",
    "    })\n",
    ")\n",
    "print(audio_cu_response.headers)\n",
    "print(audio_cu_response.json())"
   ]
  },
  {
   "cell_type": "code",
   "execution_count": 103,
   "id": "6b493f45",
   "metadata": {},
   "outputs": [
    {
     "name": "stdout",
     "output_type": "stream",
     "text": [
      "{'Transfer-Encoding': 'chunked', 'Content-Type': 'application/json', 'request-id': 'c19f7377-b25d-4999-8a26-a0c542716217', 'x-ms-request-id': 'c19f7377-b25d-4999-8a26-a0c542716217', 'api-supported-versions': '2024-12-01-preview,2025-05-01-preview', 'x-envoy-upstream-service-time': '70', 'apim-request-id': 'c19f7377-b25d-4999-8a26-a0c542716217', 'Strict-Transport-Security': 'max-age=31536000; includeSubDomains; preload', 'x-content-type-options': 'nosniff', 'x-ms-region': 'West US', 'Date': 'Sat, 28 Jun 2025 04:57:16 GMT'}\n",
      "{'id': '4c2c6c46-8390-4a0a-984a-518d27d4a9f9', 'status': 'Failed', 'error': {'code': 'InvalidRequest', 'message': 'Invalid Request.', 'innererror': {'code': 'InternalServerError', 'message': 'An unknown error was encountered. Please contact us at https://aka.ms/cu-feedback?requestId=4c2c6c46-8390-4a0a-984a-518d27d4a9f9.'}}, 'result': {'analyzerId': 'prebuilt-audioAnalyzer', 'apiVersion': '2025-05-01-preview', 'createdAt': '2025-06-28T04:24:29Z', 'warnings': [], 'contents': []}}\n"
     ]
    }
   ],
   "source": [
    "# Let's try getting the result using the 'Operation-Location' in the headers\n",
    "\n",
    "audio_result = requests.get(\n",
    "    url=audio_cu_response.headers[\"Operation-Location\"],\n",
    "    headers={\n",
    "        \"Ocp-Apim-Subscription-Key\": CU_SERVICE_KEY\n",
    "    },\n",
    ")\n",
    "\n",
    "print(audio_result.headers)\n",
    "print(audio_result.json())"
   ]
  },
  {
   "cell_type": "markdown",
   "id": "31b5d568",
   "metadata": {},
   "source": [
    "Currently there is no official SDK for VideoIndexer from Azure, so the audio analysis experiment will be left as a failed result."
   ]
  },
  {
   "cell_type": "code",
   "execution_count": 104,
   "id": "a1cd6fa4",
   "metadata": {},
   "outputs": [],
   "source": [
    "# TODO(quanbui): Implement audio/video analysis using the old VideoIndexer API. \n",
    "# Reference: https://github.dev/Azure-Samples/azure-video-indexer-samples"
   ]
  },
  {
   "cell_type": "markdown",
   "id": "f9df5527",
   "metadata": {},
   "source": [
    "## Create a custom analyzer\n",
    "\n",
    "I'll create a business card analyzer to extract name and email address"
   ]
  },
  {
   "cell_type": "code",
   "execution_count": 78,
   "id": "fdb4ba32",
   "metadata": {},
   "outputs": [],
   "source": [
    "custom_analyzer_schema = {\n",
    "    \"description\": \"Simple business card\",\n",
    "    \"baseAnalyzerId\": \"prebuilt-documentAnalyzer\",\n",
    "    \"config\": {\n",
    "        \"returnDetails\": True\n",
    "    },\n",
    "    \"fieldSchema\": {\n",
    "        \"fields\": {\n",
    "            \"ContactName\": {\n",
    "                \"type\": \"string\",\n",
    "                \"method\": \"extract\",\n",
    "                \"description\": \"Name on business card\"\n",
    "            },\n",
    "            \"EmailAddress\": {\n",
    "                \"type\": \"string\",\n",
    "                \"method\": \"extract\",\n",
    "                \"description\": \"Email address on business card\"\n",
    "            }\n",
    "        }\n",
    "    }\n",
    "}\n",
    "\n",
    "custom_analyzer_name = \"business_card_analyzer\""
   ]
  },
  {
   "cell_type": "code",
   "execution_count": 79,
   "id": "6afd52c0",
   "metadata": {},
   "outputs": [
    {
     "name": "stdout",
     "output_type": "stream",
     "text": [
      "{'Transfer-Encoding': 'chunked', 'Content-Type': 'application/json', 'request-id': 'e02efecd-bd70-4039-8c9a-d13d143c2945', 'x-ms-request-id': 'e02efecd-bd70-4039-8c9a-d13d143c2945', 'Operation-Location': 'https://ai-buiminhquanhcmus-3831-westus.cognitiveservices.azure.com/contentunderstanding/analyzers/business_card_analyzer/operations/e02efecd-bd70-4039-8c9a-d13d143c2945?api-version=2025-05-01-preview', 'api-supported-versions': '2025-05-01-preview', 'x-envoy-upstream-service-time': '59', 'apim-request-id': 'e02efecd-bd70-4039-8c9a-d13d143c2945', 'Strict-Transport-Security': 'max-age=31536000; includeSubDomains; preload', 'x-content-type-options': 'nosniff', 'x-ms-region': 'West US', 'Date': 'Sat, 28 Jun 2025 04:26:38 GMT'}\n",
      "{'analyzerId': 'business_card_analyzer', 'description': 'Simple business card', 'createdAt': '2025-06-28T04:26:38Z', 'lastModifiedAt': '2025-06-28T04:26:38Z', 'baseAnalyzerId': 'prebuilt-documentAnalyzer', 'config': {'returnDetails': True, 'enableOcr': True, 'enableLayout': True, 'enableFormula': False, 'disableContentFiltering': False, 'tableFormat': 'html'}, 'fieldSchema': {'fields': {'ContactName': {'type': 'string', 'method': 'extract', 'description': 'Name on business card'}, 'EmailAddress': {'type': 'string', 'method': 'extract', 'description': 'Email address on business card'}}}, 'warnings': [], 'status': 'creating', 'processingLocation': 'geography', 'mode': 'standard'}\n"
     ]
    }
   ],
   "source": [
    "creation_response = requests.put(url=urljoin(CU_SERVICE_ENDPOINT, f\"contentunderstanding/analyzers/{custom_analyzer_name}?api-version=2025-05-01-preview\"),\n",
    "                                 headers={\n",
    "                                     \"Ocp-Apim-Subscription-Key\": CU_SERVICE_KEY\n",
    "                                 },\n",
    "                                 data=json.dumps(custom_analyzer_schema))\n",
    "\n",
    "print(creation_response.headers)\n",
    "print(creation_response.json())"
   ]
  },
  {
   "cell_type": "markdown",
   "id": "eb756c6c",
   "metadata": {},
   "source": [
    "Let's try it out with a sample card\n",
    "\n",
    "<img src=\"https://github.com/MicrosoftLearning/mslearn-ai-information-extraction/raw/refs/heads/main/Labfiles/content-app/biz-card-1.png\" alt=\"Sample business card\" width=\"400\"/>"
   ]
  },
  {
   "cell_type": "code",
   "execution_count": 82,
   "id": "eb13e097",
   "metadata": {},
   "outputs": [
    {
     "name": "stdout",
     "output_type": "stream",
     "text": [
      "{'Transfer-Encoding': 'chunked', 'Content-Type': 'application/json', 'request-id': 'ec680768-657b-4725-ba60-20b420b55cad', 'x-ms-request-id': 'ec680768-657b-4725-ba60-20b420b55cad', 'Operation-Location': 'https://ai-buiminhquanhcmus-3831-westus.cognitiveservices.azure.com/contentunderstanding/analyzerResults/ec680768-657b-4725-ba60-20b420b55cad?api-version=2025-05-01-preview', 'api-supported-versions': '2024-12-01-preview,2025-05-01-preview', 'x-envoy-upstream-service-time': '326', 'apim-request-id': 'ec680768-657b-4725-ba60-20b420b55cad', 'Strict-Transport-Security': 'max-age=31536000; includeSubDomains; preload', 'x-content-type-options': 'nosniff', 'x-ms-region': 'West US', 'Date': 'Sat, 28 Jun 2025 04:33:24 GMT'}\n",
      "{'id': 'ec680768-657b-4725-ba60-20b420b55cad', 'status': 'Running', 'result': {'analyzerId': 'business_card_analyzer', 'apiVersion': '2025-05-01-preview', 'createdAt': '2025-06-28T04:33:25Z', 'warnings': [], 'contents': []}}\n"
     ]
    }
   ],
   "source": [
    "biz_card_url = \"https://github.com/MicrosoftLearning/mslearn-ai-information-extraction/raw/refs/heads/main/Labfiles/content-app/biz-card-1.png\"\n",
    "\n",
    "biz_card = requests.get(biz_card_url).content\n",
    "\n",
    "bc_response = requests.post(\n",
    "    url=urljoin(CU_SERVICE_ENDPOINT, f\"contentunderstanding/analyzers/{custom_analyzer_name}:analyze?api-version={api_version}\"),\n",
    "    headers={\n",
    "        \"Ocp-Apim-Subscription-Key\": CU_SERVICE_KEY,\n",
    "        \"Content-Type\": \"application/octet-stream\"\n",
    "    },\n",
    "    data=io.BytesIO(biz_card)\n",
    ")\n",
    "\n",
    "print(bc_response.headers)\n",
    "print(bc_response.json())"
   ]
  },
  {
   "cell_type": "code",
   "execution_count": 83,
   "id": "7f54a0fc",
   "metadata": {},
   "outputs": [
    {
     "name": "stdout",
     "output_type": "stream",
     "text": [
      "{'Transfer-Encoding': 'chunked', 'Content-Type': 'application/json', 'request-id': 'a32e4e54-7c24-4a14-96f9-76c038b5c48a', 'x-ms-request-id': 'a32e4e54-7c24-4a14-96f9-76c038b5c48a', 'api-supported-versions': '2024-12-01-preview,2025-05-01-preview', 'x-envoy-upstream-service-time': '32', 'apim-request-id': 'a32e4e54-7c24-4a14-96f9-76c038b5c48a', 'Strict-Transport-Security': 'max-age=31536000; includeSubDomains; preload', 'x-content-type-options': 'nosniff', 'x-ms-region': 'West US', 'Date': 'Sat, 28 Jun 2025 04:34:31 GMT'}\n",
      "{'id': 'ec680768-657b-4725-ba60-20b420b55cad', 'status': 'Succeeded', 'result': {'analyzerId': 'business_card_analyzer', 'apiVersion': '2025-05-01-preview', 'createdAt': '2025-06-28T04:33:25Z', 'warnings': [], 'contents': [{'markdown': '<figure>\\n</figure>\\n\\n\\nAdventure Works Cycles\\n\\nRoberto Tamburello\\nEngineering Manager\\n\\nroberto@adventure-works.com\\n\\n555-123-4567\\n', 'fields': {'ContactName': {'type': 'string', 'valueString': 'Roberto Tamburello'}, 'EmailAddress': {'type': 'string', 'valueString': 'roberto@adventure-works.com'}}, 'kind': 'document', 'startPageNumber': 1, 'endPageNumber': 1, 'unit': 'pixel', 'pages': [{'pageNumber': 1, 'angle': 0.0234212, 'width': 1000, 'height': 620, 'spans': [{'offset': 0, 'length': 127}], 'words': [{'content': 'Adventure', 'span': {'offset': 21, 'length': 9}, 'confidence': 0.994, 'source': 'D(1,283,87,543,87,542,140,282,138)'}, {'content': 'Works', 'span': {'offset': 31, 'length': 5}, 'confidence': 0.997, 'source': 'D(1,561,87,714,87,713,142,561,140)'}, {'content': 'Cycles', 'span': {'offset': 37, 'length': 6}, 'confidence': 0.995, 'source': 'D(1,731,87,901,87,901,143,731,142)'}, {'content': 'Roberto', 'span': {'offset': 45, 'length': 7}, 'confidence': 0.997, 'source': 'D(1,50,324,195,324,195,363,49,363)'}, {'content': 'Tamburello', 'span': {'offset': 53, 'length': 10}, 'confidence': 0.995, 'source': 'D(1,206,324,408,325,408,363,206,363)'}, {'content': 'Engineering', 'span': {'offset': 64, 'length': 11}, 'confidence': 0.996, 'source': 'D(1,50,371,235,372,234,411,49,410)'}, {'content': 'Manager', 'span': {'offset': 76, 'length': 7}, 'confidence': 0.997, 'source': 'D(1,248,372,387,373,387,411,248,411)'}, {'content': 'roberto@adventure-works.com', 'span': {'offset': 85, 'length': 27}, 'confidence': 0.989, 'source': 'D(1,49,521,488,521,488,549,49,550)'}, {'content': '555-123-4567', 'span': {'offset': 114, 'length': 12}, 'confidence': 0.977, 'source': 'D(1,731,520,927,520,927,548,731,548)'}], 'lines': [{'content': 'Adventure Works Cycles', 'source': 'D(1,283,86,901,87,900,142,282,139)', 'span': {'offset': 21, 'length': 22}}, {'content': 'Roberto Tamburello', 'source': 'D(1,49,324,407,324,407,363,49,363)', 'span': {'offset': 45, 'length': 18}}, {'content': 'Engineering Manager', 'source': 'D(1,49,370,387,372,387,411,49,410)', 'span': {'offset': 64, 'length': 19}}, {'content': 'roberto@adventure-works.com', 'source': 'D(1,49,521,487,520,487,549,49,550)', 'span': {'offset': 85, 'length': 27}}, {'content': '555-123-4567', 'source': 'D(1,731,519,926,519,926,547,731,547)', 'span': {'offset': 114, 'length': 12}}]}], 'paragraphs': [{'content': 'Adventure Works Cycles', 'source': 'D(1,283,83,901,87,900,142,282,139)', 'span': {'offset': 21, 'length': 22}}, {'content': 'Roberto Tamburello Engineering Manager', 'source': 'D(1,49,324,407,324,407,411,49,411)', 'span': {'offset': 45, 'length': 38}}, {'content': 'roberto@adventure-works.com', 'source': 'D(1,49,521,487,520,487,549,49,550)', 'span': {'offset': 85, 'length': 27}}, {'content': '555-123-4567', 'source': 'D(1,731,519,926,519,926,547,731,547)', 'span': {'offset': 114, 'length': 12}}], 'sections': [{'span': {'offset': 0, 'length': 126}, 'elements': ['/figures/0', '/paragraphs/0', '/paragraphs/1', '/paragraphs/2', '/paragraphs/3']}], 'figures': [{'source': 'D(1,56,46,246,46,246,226,56,226)', 'span': {'offset': 0, 'length': 18}, 'id': '1.1'}]}]}}\n"
     ]
    }
   ],
   "source": [
    "# Fetching the result\n",
    "\n",
    "bc_result = requests.get(\n",
    "    url=bc_response.headers[\"Operation-Location\"],\n",
    "    headers={\"Ocp-Apim-Subscription-Key\": CU_SERVICE_KEY})\n",
    "\n",
    "print(bc_result.headers)\n",
    "print(bc_result.json())"
   ]
  },
  {
   "cell_type": "code",
   "execution_count": 84,
   "id": "035c9703",
   "metadata": {},
   "outputs": [
    {
     "data": {
      "text/plain": [
       "{'analyzerId': 'business_card_analyzer',\n",
       " 'apiVersion': '2025-05-01-preview',\n",
       " 'createdAt': '2025-06-28T04:33:25Z',\n",
       " 'warnings': [],\n",
       " 'contents': [{'markdown': '<figure>\\n</figure>\\n\\n\\nAdventure Works Cycles\\n\\nRoberto Tamburello\\nEngineering Manager\\n\\nroberto@adventure-works.com\\n\\n555-123-4567\\n',\n",
       "   'fields': {'ContactName': {'type': 'string',\n",
       "     'valueString': 'Roberto Tamburello'},\n",
       "    'EmailAddress': {'type': 'string',\n",
       "     'valueString': 'roberto@adventure-works.com'}},\n",
       "   'kind': 'document',\n",
       "   'startPageNumber': 1,\n",
       "   'endPageNumber': 1,\n",
       "   'unit': 'pixel',\n",
       "   'pages': [{'pageNumber': 1,\n",
       "     'angle': 0.0234212,\n",
       "     'width': 1000,\n",
       "     'height': 620,\n",
       "     'spans': [{'offset': 0, 'length': 127}],\n",
       "     'words': [{'content': 'Adventure',\n",
       "       'span': {'offset': 21, 'length': 9},\n",
       "       'confidence': 0.994,\n",
       "       'source': 'D(1,283,87,543,87,542,140,282,138)'},\n",
       "      {'content': 'Works',\n",
       "       'span': {'offset': 31, 'length': 5},\n",
       "       'confidence': 0.997,\n",
       "       'source': 'D(1,561,87,714,87,713,142,561,140)'},\n",
       "      {'content': 'Cycles',\n",
       "       'span': {'offset': 37, 'length': 6},\n",
       "       'confidence': 0.995,\n",
       "       'source': 'D(1,731,87,901,87,901,143,731,142)'},\n",
       "      {'content': 'Roberto',\n",
       "       'span': {'offset': 45, 'length': 7},\n",
       "       'confidence': 0.997,\n",
       "       'source': 'D(1,50,324,195,324,195,363,49,363)'},\n",
       "      {'content': 'Tamburello',\n",
       "       'span': {'offset': 53, 'length': 10},\n",
       "       'confidence': 0.995,\n",
       "       'source': 'D(1,206,324,408,325,408,363,206,363)'},\n",
       "      {'content': 'Engineering',\n",
       "       'span': {'offset': 64, 'length': 11},\n",
       "       'confidence': 0.996,\n",
       "       'source': 'D(1,50,371,235,372,234,411,49,410)'},\n",
       "      {'content': 'Manager',\n",
       "       'span': {'offset': 76, 'length': 7},\n",
       "       'confidence': 0.997,\n",
       "       'source': 'D(1,248,372,387,373,387,411,248,411)'},\n",
       "      {'content': 'roberto@adventure-works.com',\n",
       "       'span': {'offset': 85, 'length': 27},\n",
       "       'confidence': 0.989,\n",
       "       'source': 'D(1,49,521,488,521,488,549,49,550)'},\n",
       "      {'content': '555-123-4567',\n",
       "       'span': {'offset': 114, 'length': 12},\n",
       "       'confidence': 0.977,\n",
       "       'source': 'D(1,731,520,927,520,927,548,731,548)'}],\n",
       "     'lines': [{'content': 'Adventure Works Cycles',\n",
       "       'source': 'D(1,283,86,901,87,900,142,282,139)',\n",
       "       'span': {'offset': 21, 'length': 22}},\n",
       "      {'content': 'Roberto Tamburello',\n",
       "       'source': 'D(1,49,324,407,324,407,363,49,363)',\n",
       "       'span': {'offset': 45, 'length': 18}},\n",
       "      {'content': 'Engineering Manager',\n",
       "       'source': 'D(1,49,370,387,372,387,411,49,410)',\n",
       "       'span': {'offset': 64, 'length': 19}},\n",
       "      {'content': 'roberto@adventure-works.com',\n",
       "       'source': 'D(1,49,521,487,520,487,549,49,550)',\n",
       "       'span': {'offset': 85, 'length': 27}},\n",
       "      {'content': '555-123-4567',\n",
       "       'source': 'D(1,731,519,926,519,926,547,731,547)',\n",
       "       'span': {'offset': 114, 'length': 12}}]}],\n",
       "   'paragraphs': [{'content': 'Adventure Works Cycles',\n",
       "     'source': 'D(1,283,83,901,87,900,142,282,139)',\n",
       "     'span': {'offset': 21, 'length': 22}},\n",
       "    {'content': 'Roberto Tamburello Engineering Manager',\n",
       "     'source': 'D(1,49,324,407,324,407,411,49,411)',\n",
       "     'span': {'offset': 45, 'length': 38}},\n",
       "    {'content': 'roberto@adventure-works.com',\n",
       "     'source': 'D(1,49,521,487,520,487,549,49,550)',\n",
       "     'span': {'offset': 85, 'length': 27}},\n",
       "    {'content': '555-123-4567',\n",
       "     'source': 'D(1,731,519,926,519,926,547,731,547)',\n",
       "     'span': {'offset': 114, 'length': 12}}],\n",
       "   'sections': [{'span': {'offset': 0, 'length': 126},\n",
       "     'elements': ['/figures/0',\n",
       "      '/paragraphs/0',\n",
       "      '/paragraphs/1',\n",
       "      '/paragraphs/2',\n",
       "      '/paragraphs/3']}],\n",
       "   'figures': [{'source': 'D(1,56,46,246,46,246,226,56,226)',\n",
       "     'span': {'offset': 0, 'length': 18},\n",
       "     'id': '1.1'}]}]}"
      ]
     },
     "execution_count": 84,
     "metadata": {},
     "output_type": "execute_result"
    }
   ],
   "source": [
    "bc = bc_result.json()[\"result\"]\n",
    "bc"
   ]
  },
  {
   "cell_type": "code",
   "execution_count": 94,
   "id": "6c4e0270",
   "metadata": {},
   "outputs": [
    {
     "name": "stdout",
     "output_type": "stream",
     "text": [
      "Content:\n",
      " <figure>\n",
      "</figure>\n",
      "\n",
      "\n",
      "Adventure Works Cycles\n",
      "\n",
      "Roberto Tamburello\n",
      "Engineering Manager\n",
      "\n",
      "roberto@adventure-works.com\n",
      "\n",
      "555-123-4567\n",
      "\n",
      "\n",
      "Contact name: Roberto Tamburello\n",
      "Contact email: roberto@adventure-works.com\n"
     ]
    }
   ],
   "source": [
    "print(\"Content:\\n\", bc[\"contents\"][0][\"markdown\"])\n",
    "print()\n",
    "\n",
    "print(\"Contact name:\", bc[\"contents\"][0][\"fields\"][\"ContactName\"][\"valueString\"])\n",
    "print(\"Contact email:\", bc[\"contents\"][0][\"fields\"][\"EmailAddress\"][\"valueString\"])"
   ]
  },
  {
   "cell_type": "markdown",
   "id": "8f952c55",
   "metadata": {},
   "source": [
    "Clean up resources"
   ]
  },
  {
   "cell_type": "code",
   "execution_count": null,
   "id": "792f1e28",
   "metadata": {},
   "outputs": [
    {
     "name": "stdout",
     "output_type": "stream",
     "text": [
      "{'Content-Length': '236', 'Content-Type': 'application/json; charset=utf-8', 'request-id': 'df27af33-922d-477b-8063-5f9a9b72c20a', 'x-ms-request-id': 'df27af33-922d-477b-8063-5f9a9b72c20a', 'x-ms-error-code': 'Conflict', 'api-supported-versions': '2025-05-01-preview', 'x-envoy-upstream-service-time': '20', 'apim-request-id': 'df27af33-922d-477b-8063-5f9a9b72c20a', 'Strict-Transport-Security': 'max-age=31536000; includeSubDomains; preload', 'x-content-type-options': 'nosniff', 'x-ms-region': 'West US', 'Date': 'Sat, 28 Jun 2025 04:54:06 GMT'}\n",
      "409\n",
      "{'error': {'code': 'Conflict', 'message': 'The request could not be completed due to a conflict with the current state of the target resource.', 'innererror': {'code': 'ModelExists', 'message': 'A model with the provided name already exists.'}}}\n"
     ]
    }
   ],
   "source": [
    "deletion_response = requests.put(url=urljoin(CU_SERVICE_ENDPOINT, f\"contentunderstanding/analyzers/{custom_analyzer_name}?api-version=2025-05-01-preview\"),\n",
    "                                 headers={\n",
    "                                     \"Ocp-Apim-Subscription-Key\": CU_SERVICE_KEY\n",
    "                                 },\n",
    "                                 # The Azure API Reference missed the request body specification \n",
    "                                 # (https://learn.microsoft.com/en-us/rest/api/contentunderstanding/content-analyzers/delete?view=rest-contentunderstanding-2025-05-01-preview&tabs=HTTP)\n",
    "                                 # So for now it could not be deleted.\n",
    "                                 data=json.dumps({\n",
    "                                     \"baseAnalyzerId\": \"prebuilt-documentAnalyzer\"\n",
    "                                 }))\n",
    "\n",
    "print(deletion_response.headers)\n",
    "print(deletion_response.status_code)\n",
    "print(deletion_response.json())"
   ]
  }
 ],
 "metadata": {
  "kernelspec": {
   "display_name": ".venv",
   "language": "python",
   "name": "python3"
  },
  "language_info": {
   "codemirror_mode": {
    "name": "ipython",
    "version": 3
   },
   "file_extension": ".py",
   "mimetype": "text/x-python",
   "name": "python",
   "nbconvert_exporter": "python",
   "pygments_lexer": "ipython3",
   "version": "3.12.10"
  }
 },
 "nbformat": 4,
 "nbformat_minor": 5
}
