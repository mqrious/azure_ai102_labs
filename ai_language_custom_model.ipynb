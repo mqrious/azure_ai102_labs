{
 "cells": [
  {
   "cell_type": "markdown",
   "id": "5e3ec4a4",
   "metadata": {},
   "source": [
    "# Custom Classification Project\n",
    "\n",
    "Support 2 projecet kinds (`project_kind`):\n",
    "- `customSingleLabelClassification`\n",
    "- `customMultiLabelClassification`\n",
    "\n",
    "Dataset splitting:\n",
    "- Automatic split: splits the dataset by random percentage\n",
    "- Manual split"
   ]
  },
  {
   "cell_type": "markdown",
   "id": "1c6bc09f",
   "metadata": {},
   "source": [
    "# Custom Named Entity Recognition\n",
    "\n",
    "Dataset characteristics:\n",
    "- Diversity\n",
    "- Distribution\n",
    "- Accuracy (should be close to real-world data)"
   ]
  },
  {
   "cell_type": "markdown",
   "id": "18b9cef9",
   "metadata": {},
   "source": [
    "# Evaluation metrics\n",
    "\n",
    "Horizontal: Predicted label\n",
    "\n",
    "Vertical: Actual label\n",
    "\n",
    "|   | T  | F  |\n",
    "|---|----|----|\n",
    "| T | TP | FN |\n",
    "| F | FP | TN |\n",
    "\n",
    "- `Recall = TP / (TP + FN)`: the model classifies/finds the entity well, regardless of if the result is right.\n",
    "- `Precision = TP / (TP + FP)`: as long as the entity is classified/recognized, it is labeled correctly.\n",
    "- `F1-score = 2 * (Precision*Recall) / (Precision+Recall)`: a balance score between Recall and Precision."
   ]
  },
  {
   "cell_type": "markdown",
   "id": "741bf1bb",
   "metadata": {},
   "source": [
    "# Project limitations (Service limits)\n",
    "Ref: https://learn.microsoft.com/en-us/azure/ai-services/language-service/custom-text-classification/service-limits\n",
    "\n",
    "- Training files/documents:\n",
    "    - At least 10, at most 100.000 files/documents\n",
    "    - Maximum 200 entity types (classes)\n",
    "    - Maximum 500 character per entity\n",
    "- API rate limit:\n",
    "    - Authority: 10 POST + 100 GET per minute\n",
    "    - Analyze: 20 GET/POST (per minute?)\n",
    "    - Prediction: 1000 GET/POST per minute\n",
    "- 1 storage account per project\n",
    "- 500 projects per resource\n",
    "- 50 trained models per project"
   ]
  }
 ],
 "metadata": {
  "language_info": {
   "name": "python"
  }
 },
 "nbformat": 4,
 "nbformat_minor": 5
}
