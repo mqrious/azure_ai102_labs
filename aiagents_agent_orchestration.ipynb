{
 "cells": [
  {
   "cell_type": "markdown",
   "id": "26f1ae5e",
   "metadata": {},
   "source": [
    "# The Semantic Kernel Agents Framework\n",
    "\n",
    "It is part of the core Semantic Kernel framework, provides structured components for defining AI-driven workflows, enabling agents to interact with users, APIs, and external services.\n",
    "\n",
    "## Core concepts\n",
    "- **Agents**: They use language models, functions, and memory to make decisions dynamically.\n",
    "- **Agent collaboration**: Agents (of different types) can collaborate together through an agent group chat. Agent group chats determine which agent should respond and how to determine if the conversation is finished.\n",
    "- **Kernel**: central component of the Semantic Kernel, acts as the execution engine, managing AI interactions, function orchestration, and memory.\n",
    "- **Tools and plugins**: Agents use tools and plugins to perform specific tasks.\n",
    "- **History**: Agents can maintain chat history across multiple interactions, allowing them to track previous interactions and adapt responses accordingly. The conversation history is always accessible by the agents, either as a whole or for a specific agent's chat history.\n",
    "\n",
    "## Types of agents\n",
    "- **Azure AI Agent**: a specialized agent within the Semantic Kernel Agent Framework. The AzureAIAgent also supports a variety of built-in tools, including file retrieval, code execution, and data interaction via Bing, Azure AI Search, Azure Functions, and OpenAPI.\n",
    "- **Chat Completion Agent**: designed for chat completion and conversation interfaces. The ChatCompletionAgent type mirrors the features and patterns in the underlying AI Service to support natural language processing, contextual understanding, and dialogue management.\n",
    "- **OpenAI Assistant Agent**: designed for more advanced capabilities and multi-step tasks. The OpenAIAssistantAgent type supports goal-driven interactions with additional features like code interpretation and file search.\n",
    "\n",
    "## Agent group chat\n",
    "- **Single-turn conversation**: a designated agent provides a response based on user input.\n",
    "    - You can invoke a response from a single-turn chat by using AgentGroupChat.invoke and specifying the agent that should respond\n",
    "- **Multi-turn conversation**: multiple agents take turns responding, continuing the conversation until a termination condition is met.\n",
    "    - Agent responses are returned asynchronously as they are generated, allowing the conversation to unfold in real-time.\n",
    "    - You can invoke a response from a multi-turn chat by using `AgentGroupChat.invoke`.\n",
    "\n",
    "## Agent selection strategy\n",
    "It's important to choose the agent that's best suited to respond to a user's query, especially in multi-agent systems where the agents specialize in different domains.\n",
    "\n",
    "**Single-turn conversations**: \n",
    "- **Intent recognition**: The framework analyzes the user's query to identify the intent and match it with the most relevant agent.\n",
    "- **Predefined rules**: Developers can configure routing rules to direct specific queries to designated agents in their application.\n",
    "\n",
    "**Multi-turn conversations**:\n",
    "- **Context tracking**: The framework maintains a record of the conversation history to understand the user's intent and select the appropriate agent.\n",
    "- **Dynamic switching**: If the topic shifts, the framework dynamically switches to an agent specializing in the new domain in the middle of the conversation.\n",
    "\n",
    "The selection strategy is defined within the framework either by using predefined selection strategy or by extending a `SelectionStrategy` class. Predefined are:\n",
    "- `SequentialSelectionStrategy`: select the agent based on the order in which the agents were added to the chat, has the option to specify an initial agent.\n",
    "- `KernelFunctionSelectionStrategy`: allows you to define your selection strategy by creating a kernel function from a prompt.\n",
    "- `SelectionStrategy`: base class with an overridable `select_agent` method that returns the agent name.\n",
    "\n",
    "Truncating chat history: To reduce token usage and help improve performance use the `KernelFunctionSelectionStrategy.history_reducer` parameter.\n",
    "\n",
    "## Termination strategy\n",
    "A termination strategy ensures that conversations or tasks conclude appropriately. \n",
    "\n",
    "Each termination strategy supports a maximum_iterations parameter that will end the chat after a maximum number of iterations. The default value is 99 iterations.\n",
    "\n",
    "- `DefaultTerminationStrategy`: will only terminate after the specified number of maximum iterations.\n",
    "- `KernelFunctionTerminationStrategy`: allows you to define your termination strategy by creating a kernel function from a prompt. This class requires a `result_parser` parameter, which is a Boolean function that processes the output of your prompt function to determine whether the termination condition has been met.\n",
    "- `TerminationStrategy`: base class with an overridable `should_agent_terminate` method that returns a Boolean.\n",
    "\n",
    "Truncating chat history: To reduce token usage and help improve performance use the `KernelFunctionTerminationStrategy.history_reducer` parameter.\n",
    "\n",
    "## Conversation state\n",
    "The AgentGroupChat state updates to 'completed' once it meets the termination criteria.\n",
    "\n",
    "To keep using the same chat instance, you'll need to reset the completion state to False. Without a state reset, the AgentGroupChat can't accept new interactions.\n",
    "\n",
    "When a conversation hits the maximum number of iterations allowed, the conversation will end but won't be marked as 'completed'. In this case, you can extend the conversation without resetting the conversation state."
   ]
  },
  {
   "cell_type": "markdown",
   "id": "a28bb9b8",
   "metadata": {},
   "source": [
    "# Setup"
   ]
  },
  {
   "cell_type": "code",
   "execution_count": 7,
   "id": "680994f8",
   "metadata": {},
   "outputs": [],
   "source": [
    "import os\n",
    "import textwrap\n",
    "from datetime import datetime\n",
    "from dotenv import load_dotenv\n",
    "from pathlib import Path\n",
    "\n",
    "from azure.identity.aio import DefaultAzureCredential\n",
    "from semantic_kernel.agents import AgentGroupChat\n",
    "from semantic_kernel.agents import AzureAIAgent, AzureAIAgentSettings\n",
    "from semantic_kernel.agents.strategies import TerminationStrategy, SequentialSelectionStrategy\n",
    "from semantic_kernel.contents.chat_message_content import ChatMessageContent\n",
    "from semantic_kernel.contents.utils.author_role import AuthorRole\n",
    "from semantic_kernel.functions.kernel_function_decorator import kernel_function\n",
    "\n",
    "load_dotenv()\n",
    "\n",
    "AGENT_PROJECT_ENDPOINT = os.getenv(\"AGENT_PROJECT_ENDPOINT\")\n",
    "AGENT_MODEL_DEPLOYMENT = os.getenv(\"AGENT_MODEL_DEPLOYMENT\")"
   ]
  },
  {
   "cell_type": "code",
   "execution_count": 12,
   "id": "0f26d59c",
   "metadata": {},
   "outputs": [],
   "source": [
    "ai_agent_settings = AzureAIAgentSettings(\n",
    "    endpoint=AGENT_PROJECT_ENDPOINT,\n",
    "    model_deployment_name=AGENT_MODEL_DEPLOYMENT,\n",
    ")\n",
    "\n",
    "project_client = AzureAIAgent.create_client(\n",
    "    endpoint=AGENT_PROJECT_ENDPOINT,\n",
    "    credential=DefaultAzureCredential(\n",
    "        exclude_environment_credential=True,\n",
    "        exclude_managed_identity_credential=True\n",
    "    )\n",
    ")"
   ]
  },
  {
   "cell_type": "code",
   "execution_count": 10,
   "id": "a3fe8657",
   "metadata": {},
   "outputs": [],
   "source": [
    "# Agent parameters\n",
    "\n",
    "INCIDENT_MANAGER = \"INCIDENT_MANAGER\"\n",
    "INCIDENT_MANAGER_INSTRUCTIONS = \"\"\"\n",
    "Analyze the given log file or the response from the devops assistant.\n",
    "Recommend which one of the following actions should be taken:\n",
    "\n",
    "Restart service {service_name}\n",
    "Rollback transaction\n",
    "Redeploy resource {resource_name}\n",
    "Increase quota\n",
    "\n",
    "If there are no issues or if the issue has already been resolved, respond with \"INCIDENT_MANAGER > No action needed.\"\n",
    "If none of the options resolve the issue, respond with \"Escalate issue.\"\n",
    "\n",
    "RULES:\n",
    "- Do not perform any corrective actions yourself.\n",
    "- Read the log file on every turn.\n",
    "- Prepend your response with this text: \"INCIDENT_MANAGER > {logfilepath} | \"\n",
    "- Only respond with the corrective action instructions.\n",
    "\"\"\"\n",
    "\n",
    "DEVOPS_ASSISTANT = \"DEVOPS_ASSISTANT\"\n",
    "DEVOPS_ASSISTANT_INSTRUCTIONS = \"\"\"\n",
    "Read the instructions from the INCIDENT_MANAGER and apply the appropriate resolution function. \n",
    "Return the response as \"{function_response}\"\n",
    "If the instructions indicate there are no issues or actions needed, \n",
    "take no action and respond with \"No action needed.\"\n",
    "\n",
    "RULES:\n",
    "- Use the instructions provided.\n",
    "- Do not read any log files yourself.\n",
    "- Prepend your response with this text: \"DEVOPS_ASSISTANT > \"\n",
    "\"\"\""
   ]
  },
  {
   "cell_type": "code",
   "execution_count": 11,
   "id": "926e7fff",
   "metadata": {},
   "outputs": [],
   "source": [
    "# Plugin setup\n",
    "\n",
    "# class for DevOps functions\n",
    "class DevopsPlugin:\n",
    "    \"\"\"A plugin that performs developer operation tasks.\"\"\"\n",
    "    \n",
    "    def append_to_log_file(self, filepath: str, content: str) -> None:\n",
    "        with open(filepath, 'a', encoding='utf-8') as file:\n",
    "            file.write('\\n' + textwrap.dedent(content).strip())\n",
    "\n",
    "    @kernel_function(description=\"A function that restarts the named service\")\n",
    "    def restart_service(self, service_name: str = \"\", logfile: str = \"\") -> str:\n",
    "        log_entries = [\n",
    "            f\"[{datetime.now().strftime('%Y-%m-%d %H:%M:%S')}] ALERT  DevopsAssistant: Multiple failures detected in {service_name}. Restarting service.\",\n",
    "            f\"[{datetime.now().strftime('%Y-%m-%d %H:%M:%S')}] INFO  {service_name}: Restart initiated.\",\n",
    "            f\"[{datetime.now().strftime('%Y-%m-%d %H:%M:%S')}] INFO  {service_name}: Service restarted successfully.\",\n",
    "        ]\n",
    "\n",
    "        log_message = \"\\n\".join(log_entries)\n",
    "        self.append_to_log_file(logfile, log_message)\n",
    "        \n",
    "        return f\"Service {service_name} restarted successfully.\"\n",
    "\n",
    "    @kernel_function(description=\"A function that rollsback the transaction\")\n",
    "    def rollback_transaction(self, logfile: str = \"\") -> str:\n",
    "        log_entries = [\n",
    "            f\"[{datetime.now().strftime('%Y-%m-%d %H:%M:%S')}] ALERT  DevopsAssistant: Transaction failure detected. Rolling back transaction batch.\",\n",
    "            f\"[{datetime.now().strftime('%Y-%m-%d %H:%M:%S')}] INFO   TransactionProcessor: Rolling back transaction batch.\",\n",
    "            f\"[{datetime.now().strftime('%Y-%m-%d %H:%M:%S')}] INFO   Transaction rollback completed successfully.\",\n",
    "        ]\n",
    "\n",
    "        log_message = \"\\n\".join(log_entries)\n",
    "        self.append_to_log_file(logfile, log_message)\n",
    "        \n",
    "        return \"Transaction rolled back successfully.\"\n",
    "\n",
    "    @kernel_function(description=\"A function that redeploys the named resource\")\n",
    "    def redeploy_resource(self, resource_name: str = \"\", logfile: str = \"\") -> str:\n",
    "        log_entries = [\n",
    "            f\"[{datetime.now().strftime('%Y-%m-%d %H:%M:%S')}] ALERT  DevopsAssistant: Resource deployment failure detected in '{resource_name}'. Redeploying resource.\",\n",
    "            f\"[{datetime.now().strftime('%Y-%m-%d %H:%M:%S')}] INFO   DeploymentManager: Redeployment request submitted.\",\n",
    "            f\"[{datetime.now().strftime('%Y-%m-%d %H:%M:%S')}] INFO   DeploymentManager: Service successfully redeployed, resource '{resource_name}' created successfully.\",\n",
    "        ]\n",
    "\n",
    "        log_message = \"\\n\".join(log_entries)\n",
    "        self.append_to_log_file(logfile, log_message)\n",
    "        \n",
    "        return f\"Resource '{resource_name}' redeployed successfully.\"\n",
    "\n",
    "    @kernel_function(description=\"A function that increases the quota\")\n",
    "    def increase_quota(self, logfile: str = \"\") -> str:\n",
    "        log_entries = [\n",
    "            f\"[{datetime.now().strftime('%Y-%m-%d %H:%M:%S')}] ALERT  DevopsAssistant: High request volume detected. Increasing quota.\",\n",
    "            f\"[{datetime.now().strftime('%Y-%m-%d %H:%M:%S')}] INFO   APIManager: Quota increase request submitted.\",\n",
    "            f\"[{datetime.now().strftime('%Y-%m-%d %H:%M:%S')}] INFO   APIManager: Quota successfully increased to 150% of previous limit.\",\n",
    "        ]\n",
    "\n",
    "        log_message = \"\\n\".join(log_entries)\n",
    "        self.append_to_log_file(logfile, log_message)\n",
    "\n",
    "        return \"Successfully increased quota.\"\n",
    "\n",
    "    @kernel_function(description=\"A function that escalates the issue\")\n",
    "    def escalate_issue(self, logfile: str = \"\") -> str:\n",
    "        log_entries = [\n",
    "            f\"[{datetime.now().strftime('%Y-%m-%d %H:%M:%S')}] ALERT  DevopsAssistant: Cannot resolve issue.\",\n",
    "            f\"[{datetime.now().strftime('%Y-%m-%d %H:%M:%S')}] ALERT  DevopsAssistant: Requesting escalation.\",\n",
    "        ]\n",
    "        \n",
    "        log_message = \"\\n\".join(log_entries)\n",
    "        self.append_to_log_file(logfile, log_message)\n",
    "        \n",
    "        return \"Submitted escalation request.\"\n",
    "\n",
    "\n",
    "# class for Log File functions\n",
    "class LogFilePlugin:\n",
    "    \"\"\"A plugin that reads and writes log files.\"\"\"\n",
    "\n",
    "    @kernel_function(description=\"Accesses the given file path string and returns the file contents as a string\")\n",
    "    def read_log_file(self, filepath: str = \"\") -> str:\n",
    "        with open(filepath, 'r', encoding='utf-8') as file:\n",
    "            return file.read()"
   ]
  },
  {
   "cell_type": "code",
   "execution_count": 13,
   "id": "8a684df4",
   "metadata": {},
   "outputs": [],
   "source": [
    "# Create the incident manager agent on the Azure AI agent service\n",
    "incident_agent_definition = await project_client.agents.create_agent(\n",
    "     model=ai_agent_settings.model_deployment_name,\n",
    "     name=INCIDENT_MANAGER,\n",
    "     instructions=INCIDENT_MANAGER_INSTRUCTIONS\n",
    ")\n",
    "\n",
    "# Create a Semantic Kernel agent for the Azure AI incident manager agent\n",
    "agent_incident = AzureAIAgent(\n",
    "     client=project_client,\n",
    "     definition=incident_agent_definition,\n",
    "     plugins=[LogFilePlugin()]\n",
    ")\n",
    "\n",
    "# Create the devops agent on the Azure AI agent service\n",
    "devops_agent_definition = await project_client.agents.create_agent(\n",
    "     model=ai_agent_settings.model_deployment_name,\n",
    "     name=DEVOPS_ASSISTANT,\n",
    "     instructions=DEVOPS_ASSISTANT_INSTRUCTIONS,\n",
    ")\n",
    "\n",
    "# Create a Semantic Kernel agent for the devops Azure AI agent\n",
    "agent_devops = AzureAIAgent(\n",
    "     client=project_client,\n",
    "     definition=devops_agent_definition,\n",
    "     plugins=[DevopsPlugin()]\n",
    ")"
   ]
  },
  {
   "cell_type": "code",
   "execution_count": 19,
   "id": "360383cf",
   "metadata": {},
   "outputs": [],
   "source": [
    "# Agent Selection Strategy\n",
    "class SelectionStrategy(SequentialSelectionStrategy):\n",
    "     \"\"\"A strategy for determining which agent should take the next turn in the chat.\"\"\"\n",
    "     async def select_agent(self, agents, history):\n",
    "          \"\"\"\"Check which agent should take the next turn in the chat.\"\"\"\n",
    "          # The Incident Manager should go after the User or the Devops Assistant\n",
    "          if (history[-1].name == DEVOPS_ASSISTANT or history[-1].role == AuthorRole.USER):\n",
    "               agent_name = INCIDENT_MANAGER\n",
    "               return next((agent for agent in agents if agent.name == agent_name), None)\n",
    "          # Otherwise it is the Devops Assistant's turn\n",
    "          return next((agent for agent in agents if agent.name == DEVOPS_ASSISTANT), None)\n",
    "\n",
    "# Agent Termination Strategy\n",
    "class ApprovalTerminationStrategy(TerminationStrategy):\n",
    "     \"\"\"A strategy for determining when an agent should terminate.\"\"\"\n",
    "     async def should_agent_terminate(self, agent, history):\n",
    "          \"\"\"Check if the agent should terminate.\"\"\"\n",
    "          return \"no action needed\" in history[-1].content.lower()"
   ]
  },
  {
   "cell_type": "code",
   "execution_count": 20,
   "id": "e062ba28",
   "metadata": {},
   "outputs": [],
   "source": [
    "chat = AgentGroupChat(\n",
    "     agents=[agent_incident, agent_devops],\n",
    "     termination_strategy=ApprovalTerminationStrategy(\n",
    "         agents=[agent_incident], \n",
    "         maximum_iterations=10, \n",
    "         automatic_reset=True\n",
    "     ),\n",
    "     selection_strategy=SelectionStrategy(agents=[agent_incident,agent_devops]),      \n",
    ")"
   ]
  },
  {
   "cell_type": "markdown",
   "id": "2de652c2",
   "metadata": {},
   "source": [
    "# Execution"
   ]
  },
  {
   "cell_type": "code",
   "execution_count": 21,
   "id": "92d17dc5",
   "metadata": {},
   "outputs": [
    {
     "name": "stdout",
     "output_type": "stream",
     "text": [
      "[2025-02-21 10:05:12] INFO  ServiceX: Initialization complete.\n",
      "[2025-02-21 10:10:34] WARNING  ServiceX: Response time exceeding threshold (4500ms)\n",
      "[2025-02-21 10:15:45] ERROR  ServiceX: Connection timeout with DatabaseY\n",
      "[2025-02-21 10:16:02] WARNING  ServiceX: Retrying connection...\n",
      "[2025-02-21 10:16:30] ERROR  ServiceX: Connection retry failed.\n",
      "[2025-02-21 10:18:14] ERROR  ServiceX: Critical failure - unable to connect to DatabaseY.\n",
      "\n"
     ]
    }
   ],
   "source": [
    "# Current log file\n",
    "logfile = \"data/logs/log1.log\"\n",
    "with open(logfile, \"r\") as f:\n",
    "    print(f.read())"
   ]
  },
  {
   "cell_type": "code",
   "execution_count": 22,
   "id": "57f0d3a5",
   "metadata": {},
   "outputs": [
    {
     "name": "stdout",
     "output_type": "stream",
     "text": [
      "\n",
      "Ready to process log file: data/logs/log1.log\n",
      "\n"
     ]
    }
   ],
   "source": [
    "logfile_msg = ChatMessageContent(role=AuthorRole.USER, content=f\"USER > {logfile}\")\n",
    "print(f\"\\nReady to process log file: {logfile}\\n\")"
   ]
  },
  {
   "cell_type": "code",
   "execution_count": 23,
   "id": "8f359e3c",
   "metadata": {},
   "outputs": [
    {
     "name": "stdout",
     "output_type": "stream",
     "text": [
      "\n"
     ]
    }
   ],
   "source": [
    "# Append the current log file to the chat\n",
    "await chat.add_chat_message(logfile_msg)\n",
    "print()"
   ]
  },
  {
   "cell_type": "code",
   "execution_count": 24,
   "id": "b7420997",
   "metadata": {},
   "outputs": [
    {
     "name": "stdout",
     "output_type": "stream",
     "text": [
      "INCIDENT_MANAGER > data/logs/log1.log | Restart service ServiceX\n",
      "DEVOPS_ASSISTANT > Service ServiceX restarted successfully.\n",
      "INCIDENT_MANAGER > data/logs/log1.log | No action needed.\n"
     ]
    }
   ],
   "source": [
    "async for response in chat.invoke():\n",
    "     if response is None or not response.name:\n",
    "         continue\n",
    "     print(f\"{response.content}\")"
   ]
  },
  {
   "cell_type": "code",
   "execution_count": 26,
   "id": "02b11838",
   "metadata": {},
   "outputs": [
    {
     "name": "stdout",
     "output_type": "stream",
     "text": [
      "[2025-02-21 10:05:12] INFO  ServiceX: Initialization complete.\n",
      "[2025-02-21 10:10:34] WARNING  ServiceX: Response time exceeding threshold (4500ms)\n",
      "[2025-02-21 10:15:45] ERROR  ServiceX: Connection timeout with DatabaseY\n",
      "[2025-02-21 10:16:02] WARNING  ServiceX: Retrying connection...\n",
      "[2025-02-21 10:16:30] ERROR  ServiceX: Connection retry failed.\n",
      "[2025-02-21 10:18:14] ERROR  ServiceX: Critical failure - unable to connect to DatabaseY.\n",
      "\n",
      "[2025-06-29 16:14:58] ALERT  DevopsAssistant: Multiple failures detected in ServiceX. Restarting service.\n",
      "[2025-06-29 16:14:58] INFO  ServiceX: Restart initiated.\n",
      "[2025-06-29 16:14:58] INFO  ServiceX: Service restarted successfully.\n"
     ]
    }
   ],
   "source": [
    "# Log file after the run\n",
    "with open(logfile, \"r\") as f:\n",
    "    print(f.read())"
   ]
  },
  {
   "cell_type": "markdown",
   "id": "40afb4f8",
   "metadata": {},
   "source": [
    "# Cleaning up"
   ]
  },
  {
   "cell_type": "code",
   "execution_count": 25,
   "id": "dbc96584",
   "metadata": {},
   "outputs": [],
   "source": [
    "await project_client.agents.delete_agent(incident_agent_definition.id)\n",
    "await project_client.agents.delete_agent(devops_agent_definition.id)"
   ]
  }
 ],
 "metadata": {
  "kernelspec": {
   "display_name": ".venv",
   "language": "python",
   "name": "python3"
  },
  "language_info": {
   "codemirror_mode": {
    "name": "ipython",
    "version": 3
   },
   "file_extension": ".py",
   "mimetype": "text/x-python",
   "name": "python",
   "nbconvert_exporter": "python",
   "pygments_lexer": "ipython3",
   "version": "3.12.10"
  }
 },
 "nbformat": 4,
 "nbformat_minor": 5
}
