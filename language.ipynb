{
 "cells": [
  {
   "cell_type": "markdown",
   "id": "6abafb60",
   "metadata": {},
   "source": [
    "# Setup"
   ]
  },
  {
   "cell_type": "code",
   "execution_count": 58,
   "id": "144ce2b3",
   "metadata": {},
   "outputs": [],
   "source": [
    "from azure.core.credentials import AzureKeyCredential\n",
    "from azure.ai.textanalytics import TextAnalyticsClient, ExtractiveSummaryAction\n",
    "import os\n",
    "from dotenv import load_dotenv\n",
    "\n",
    "load_dotenv()\n",
    "\n",
    "AI_SERVICE_KEY = os.getenv(\"AI_SERVICE_KEY\")\n",
    "AI_SERVICE_ENDPOINT = os.getenv(\"AI_SERVICE_ENDPOINT\")"
   ]
  },
  {
   "cell_type": "markdown",
   "id": "6a4ad3c0",
   "metadata": {},
   "source": [
    "# Usage"
   ]
  },
  {
   "cell_type": "code",
   "execution_count": 2,
   "id": "9d8c3d0b",
   "metadata": {},
   "outputs": [],
   "source": [
    "# Create client using endpoint and key\n",
    "credential = AzureKeyCredential(key=AI_SERVICE_KEY)\n",
    "ai_client = TextAnalyticsClient(endpoint=AI_SERVICE_ENDPOINT, credential=credential)"
   ]
  },
  {
   "cell_type": "markdown",
   "id": "b1853230",
   "metadata": {},
   "source": [
    "## Language detection"
   ]
  },
  {
   "cell_type": "code",
   "execution_count": 20,
   "id": "b3eac31a",
   "metadata": {},
   "outputs": [
    {
     "name": "stdout",
     "output_type": "stream",
     "text": [
      "Detected language results:\n",
      "\n",
      "['English', 'Vietnamese']\n",
      "\n",
      "[DetectLanguageResult(id=0, primary_language=DetectedLanguage(name=English, iso6391_name=en, confidence_score=0.9), warnings=[], statistics=None, is_error=False, kind=LanguageDetection), DetectLanguageResult(id=1, primary_language=DetectedLanguage(name=Vietnamese, iso6391_name=vi, confidence_score=1.0), warnings=[], statistics=None, is_error=False, kind=LanguageDetection)]\n"
     ]
    }
   ],
   "source": [
    "dl_documents = [\n",
    "    \"Hello world!\",\n",
    "    \"Xin chào mọi người!\"\n",
    "]\n",
    "\n",
    "detectedLanguages = ai_client.detect_language(documents=dl_documents)\n",
    "\n",
    "print(\"Detected language results:\\n\")\n",
    "print([r.primary_language.name for r in detectedLanguages])\n",
    "print()\n",
    "print(detectedLanguages)"
   ]
  },
  {
   "cell_type": "markdown",
   "id": "67254fd1",
   "metadata": {},
   "source": [
    "## Sentiment analysis"
   ]
  },
  {
   "cell_type": "code",
   "execution_count": 18,
   "id": "33bc56a8",
   "metadata": {},
   "outputs": [
    {
     "name": "stdout",
     "output_type": "stream",
     "text": [
      "Sentiment analysis results:\n",
      "\n",
      "['positive', 'negative', 'neutral']\n",
      "\n",
      "[AnalyzeSentimentResult(id=0, sentiment=positive, warnings=[], statistics=None, confidence_scores=SentimentConfidenceScores(positive=0.62, neutral=0.38, negative=0.0), sentences=[SentenceSentiment(text=The weather looks good today., sentiment=positive, confidence_scores=SentimentConfidenceScores(positive=0.62, neutral=0.38, negative=0.0), length=29, offset=0, mined_opinions=[])], is_error=False, kind=SentimentAnalysis), AnalyzeSentimentResult(id=1, sentiment=negative, warnings=[], statistics=None, confidence_scores=SentimentConfidenceScores(positive=0.0, neutral=0.0, negative=1.0), sentences=[SentenceSentiment(text=This car looks old and rusty., sentiment=negative, confidence_scores=SentimentConfidenceScores(positive=0.0, neutral=0.0, negative=1.0), length=29, offset=0, mined_opinions=[])], is_error=False, kind=SentimentAnalysis), AnalyzeSentimentResult(id=2, sentiment=neutral, warnings=[], statistics=None, confidence_scores=SentimentConfidenceScores(positive=0.03, neutral=0.95, negative=0.02), sentences=[SentenceSentiment(text=The coffee shop has a lot of bookshelves., sentiment=neutral, confidence_scores=SentimentConfidenceScores(positive=0.03, neutral=0.95, negative=0.02), length=41, offset=0, mined_opinions=[])], is_error=False, kind=SentimentAnalysis)]\n"
     ]
    }
   ],
   "source": [
    "sa_documents = [\n",
    "    \"The weather looks good today.\",\n",
    "    \"This car looks old and rusty.\",\n",
    "    \"The coffee shop has a lot of bookshelves.\"\n",
    "]\n",
    "\n",
    "sentimentAnalysis = ai_client.analyze_sentiment(documents=sa_documents)\n",
    "\n",
    "print(\"Sentiment analysis results:\\n\")\n",
    "print([r.sentiment for r in sentimentAnalysis])\n",
    "print()\n",
    "print(sentimentAnalysis)"
   ]
  },
  {
   "cell_type": "markdown",
   "id": "a4927b6f",
   "metadata": {},
   "source": [
    "## Key phrases extraction"
   ]
  },
  {
   "cell_type": "code",
   "execution_count": 64,
   "id": "1e6531ad",
   "metadata": {},
   "outputs": [
    {
     "name": "stdout",
     "output_type": "stream",
     "text": [
      "Key phrases results:\n",
      "\n",
      "['new iPhone', 'upgraded camera', 'faster processor']\n",
      "\n",
      "{'id': '0', 'key_phrases': ['new iPhone', 'upgraded camera', 'faster processor'], 'warnings': [], 'statistics': None, 'is_error': False, 'kind': 'KeyPhraseExtraction'}\n"
     ]
    }
   ],
   "source": [
    "kp_documents = [\n",
    "    \"The new iPhone features an upgraded camera and faster processor.\"\n",
    "]\n",
    "\n",
    "kpe_results = ai_client.extract_key_phrases(documents=kp_documents)[0]\n",
    "print(\"Key phrases results:\\n\")\n",
    "print(kpe_results.key_phrases)\n",
    "print()\n",
    "print(kpe_results)"
   ]
  },
  {
   "cell_type": "markdown",
   "id": "eb7742b2",
   "metadata": {},
   "source": [
    "## Entity recognition"
   ]
  },
  {
   "cell_type": "code",
   "execution_count": 36,
   "id": "69a897b7",
   "metadata": {},
   "outputs": [
    {
     "name": "stdout",
     "output_type": "stream",
     "text": [
      "Recognized entity results:\n",
      "\n",
      "['Apple Inc.', 'Steve Jobs', 'Cupertino', 'California', '1976']\n",
      "\n",
      "[CategorizedEntity(text=Apple Inc., category=Organization, subcategory=None, length=10, offset=0, confidence_score=0.98), CategorizedEntity(text=Steve Jobs, category=Person, subcategory=None, length=10, offset=26, confidence_score=1.0), CategorizedEntity(text=Cupertino, category=Location, subcategory=City, length=9, offset=40, confidence_score=1.0), CategorizedEntity(text=California, category=Location, subcategory=State, length=10, offset=51, confidence_score=0.92), CategorizedEntity(text=1976, category=DateTime, subcategory=DateRange, length=4, offset=65, confidence_score=1.0)]\n"
     ]
    }
   ],
   "source": [
    "er_documents = [\n",
    "   \"Apple Inc. was founded by Steve Jobs in Cupertino, California in 1976.\"\n",
    "]\n",
    "\n",
    "recognized_entities = ai_client.recognize_entities(documents=er_documents)[0].entities\n",
    "\n",
    "print(\"Recognized entity results:\\n\")\n",
    "print([e.text for e in recognized_entities])\n",
    "print()\n",
    "print(recognized_entities)"
   ]
  },
  {
   "cell_type": "markdown",
   "id": "358034dc",
   "metadata": {},
   "source": [
    "## Linked entities extraction"
   ]
  },
  {
   "cell_type": "code",
   "execution_count": 39,
   "id": "068a1802",
   "metadata": {},
   "outputs": [
    {
     "name": "stdout",
     "output_type": "stream",
     "text": [
      "Linked entity results:\n",
      "\n",
      "[('Barack Obama', 'https://en.wikipedia.org/wiki/Barack_Obama'), ('Harvard University', 'https://en.wikipedia.org/wiki/Harvard_University'), ('President of the United States', 'https://en.wikipedia.org/wiki/President_of_the_United_States')]\n",
      "\n",
      "[LinkedEntity(name=Barack Obama, matches=[LinkedEntityMatch(confidence_score=0.26, text=Barack Obama, length=12, offset=0)], language=en, data_source_entity_id=Barack Obama, url=https://en.wikipedia.org/wiki/Barack_Obama, data_source=Wikipedia, bing_entity_search_api_id=3af18923-3590-e53b-fdcd-4d1796a9a4cb), LinkedEntity(name=Harvard University, matches=[LinkedEntityMatch(confidence_score=0.06, text=Harvard University, length=18, offset=24)], language=en, data_source_entity_id=Harvard University, url=https://en.wikipedia.org/wiki/Harvard_University, data_source=Wikipedia, bing_entity_search_api_id=ca075eb3-d706-a9da-a322-243551d5317b), LinkedEntity(name=President of the United States, matches=[LinkedEntityMatch(confidence_score=0.92, text=the President of the United States, length=34, offset=59)], language=en, data_source_entity_id=President of the United States, url=https://en.wikipedia.org/wiki/President_of_the_United_States, data_source=Wikipedia, bing_entity_search_api_id=27fdd497-ed4d-8486-511e-def460eadac7)]\n"
     ]
    }
   ],
   "source": [
    "# Get linked entities\n",
    "le_documents = [\n",
    "    \"Barack Obama studied at Harvard University before becoming the President of the United States.\"\n",
    "]\n",
    "\n",
    "linked_entities = ai_client.recognize_linked_entities(documents=le_documents)[0].entities\n",
    "\n",
    "\n",
    "print(\"Linked entity results:\\n\")\n",
    "print([(le.name, le.url) for le in linked_entities])\n",
    "print()\n",
    "print(linked_entities)"
   ]
  },
  {
   "cell_type": "markdown",
   "id": "175e3a07",
   "metadata": {},
   "source": [
    "## PII recognition"
   ]
  },
  {
   "cell_type": "code",
   "execution_count": 52,
   "id": "b5b8386f",
   "metadata": {},
   "outputs": [
    {
     "name": "stdout",
     "output_type": "stream",
     "text": [
      "PII entity results:\n",
      "\n",
      "[('Alice Johnson', 'Person'), ('alice.j@example.com', 'Email'), ('555-123-4567', 'PhoneNumber')]\n",
      "\n",
      "[PiiEntity(text=Alice Johnson, category=Person, subcategory=None, length=13, offset=15, confidence_score=1.0), PiiEntity(text=alice.j@example.com, category=Email, subcategory=None, length=19, offset=42, confidence_score=0.8), PiiEntity(text=555-123-4567, category=PhoneNumber, subcategory=None, length=12, offset=86, confidence_score=0.8)]\n"
     ]
    }
   ],
   "source": [
    "pii_documents = [\n",
    "    \"Hi, my name is Alice Johnson, my email is alice.j@example.com, and my phone number is 555-123-4567.\",\n",
    "]\n",
    "\n",
    "pii_entities = ai_client.recognize_pii_entities(documents=pii_documents)[0].entities\n",
    "\n",
    "print(\"PII entity results:\\n\")\n",
    "print([(pe.text, pe.category) for pe in pii_entities])\n",
    "print()\n",
    "print(pii_entities)"
   ]
  },
  {
   "cell_type": "markdown",
   "id": "cc987dc9",
   "metadata": {},
   "source": [
    "## Summarization"
   ]
  },
  {
   "cell_type": "code",
   "execution_count": 60,
   "id": "7413cf2f",
   "metadata": {},
   "outputs": [
    {
     "name": "stdout",
     "output_type": "stream",
     "text": [
      "Summary extracted: \n",
      "The Amazon rainforest, often referred to as the lungs of the Earth, plays a crucial role in regulating the planet’s climate. However, in recent decades, the rainforest has been facing rapid deforestation due to logging, agriculture, and mining activities. This destruction not only threatens biodiversity but also contributes to greenhouse gas emissions. Scientists warn that continued deforestation could lead to the Amazon reaching a tipping point, where it can no longer sustain itself as a rainforest.\n"
     ]
    }
   ],
   "source": [
    "sum_documents = [\n",
    "    \"The Amazon rainforest, often referred to as the lungs of the Earth, plays a crucial role in regulating the planet’s climate.\"\n",
    "    \"It absorbs vast amounts of carbon dioxide and produces oxygen, supporting countless species of plants and animals.\"\n",
    "    \"However, in recent decades, the rainforest has been facing rapid deforestation due to logging, agriculture, and mining activities.\"\n",
    "    \"This destruction not only threatens biodiversity but also contributes to greenhouse gas emissions.\"\n",
    "    \"Scientists warn that continued deforestation could lead to the Amazon reaching a tipping point, where it can no longer sustain itself as a rainforest.\"\n",
    "    \"Conservation efforts are underway, but require strong global cooperation and sustainable development policies.\"]\n",
    "\n",
    "as_poller = ai_client.begin_analyze_actions(documents=sum_documents, actions=[ExtractiveSummaryAction(max_sentence_count=4)])\n",
    "\n",
    "as_results = as_poller.result()\n",
    "for result in as_results:\n",
    "    extract_summary_result = result[0]  # first document, first result\n",
    "    if extract_summary_result.is_error:\n",
    "        print(\"...Is an error with code '{}' and message '{}'\".format(\n",
    "            extract_summary_result.code, extract_summary_result.message\n",
    "        ))\n",
    "    else:\n",
    "        print(\"Summary extracted: \\n{}\".format(\n",
    "            \" \".join([sentence.text for sentence in extract_summary_result.sentences]))\n",
    "        )"
   ]
  }
 ],
 "metadata": {
  "kernelspec": {
   "display_name": "azure_ai102_labs",
   "language": "python",
   "name": "python3"
  },
  "language_info": {
   "codemirror_mode": {
    "name": "ipython",
    "version": 3
   },
   "file_extension": ".py",
   "mimetype": "text/x-python",
   "name": "python",
   "nbconvert_exporter": "python",
   "pygments_lexer": "ipython3",
   "version": "3.12.10"
  }
 },
 "nbformat": 4,
 "nbformat_minor": 5
}
