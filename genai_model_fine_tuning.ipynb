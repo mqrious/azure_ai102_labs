{
 "cells": [
  {
   "cell_type": "markdown",
   "id": "6f1316d2",
   "metadata": {},
   "source": [
    "# Context\n",
    "\n",
    "We can optimize the model outputs in 2 ways:\n",
    "- Context optimization (What the model needs to know): We give the model external data.\n",
    "- Model optimization (How the model needs to act): We adjust the model's internal weights.\n",
    "\n",
    "To improve the quality of the outputs from the model, there are various strategies:\n",
    "- **Prompt engineering** is a quick and easy way to improve how the model acts and what the model needs to know. Sometimes however, this technique might not lead to consistent results if the model ignores the instructions.\n",
    "- **Retrieval Augmented Generation (RAG)** is a technique to give the model context (retrieved from other sources) before the model generates a response. \n",
    "- **Fine-tuning** means further train the model on your dataset."
   ]
  },
  {
   "cell_type": "markdown",
   "id": "a05b24d3",
   "metadata": {},
   "source": [
    "# Dataset preparation\n",
    "\n",
    "When fine-tuning for chat completion, the data should be a collection of sample conversations, and it should contain 3 components:\n",
    "- The system message\n",
    "- The user message\n",
    "- The assistant's response\n",
    "And the data should be stored in a JSONL file.\n",
    "\n",
    "For example:\n",
    "```jsonl\n",
    "{\"messages\": [{\"role\": \"system\", \"content\": \"You are an Xbox customer support agent whose primary goal is to help users with issues they are experiencing with their Xbox devices. You are friendly and concise. You only provide factual answers to queries, and do not provide answers that are not related to Xbox.\"}, {\"role\": \"user\", \"content\": \"Is Xbox better than PlayStation?\"}, {\"role\": \"assistant\", \"content\": \"I apologize, but I cannot provide personal opinions. My primary job is to assist you with any issues related to your Xbox device. Do you have any Xbox-related issues that need addressing?\"}]}\n",
    "```\n",
    "\n",
    "\n",
    "A multi-turn conversation can be include in the dataset. We can use the `weight` key-value pair to ignore/include the assistant messages in training. The message is ignored if `weight = 0`, included if `weight = 1`.\n",
    "```jsonl\n",
    "{\"messages\": [{\"role\": \"system\", \"content\": \"Marv is a factual chatbot that is also sarcastic.\"}, {\"role\": \"user\", \"content\": \"What's the capital of France?\"}, {\"role\": \"assistant\", \"content\": \"Paris\", \"weight\": 0}, {\"role\": \"user\", \"content\": \"Can you be more sarcastic?\"}, {\"role\": \"assistant\", \"content\": \"Paris, as if everyone doesn't know that already.\", \"weight\": 1}]}\n",
    "```"
   ]
  },
  {
   "cell_type": "markdown",
   "id": "69ef59ea",
   "metadata": {},
   "source": [
    "# Fine-tuning steps\n",
    "\n",
    "1. Select a base model\n",
    "- Base model: `gpt-4.1-mini-2025-04-14`\n",
    "- Method: `Supervised`\n",
    "\n",
    "2. Select your training data\n",
    "- Training data: `data/2024_euro_finetune.jsonl`\n",
    "\n",
    "3. (Optionally) Select your validation data\n",
    "\n",
    "4. Configure the advanced options:\n",
    "- `batch_size`: The number of examples used to train a single forward/backward pass. (Leave as default value)\n",
    "- `learning_rate_multiplier`: Larger rates tends to perform better with larger batch sizes. Smaller rates can be useful to avoid overfitting. (Leave as default value)\n",
    "- `n_epochs`: The number of epochs to train the model for. An epoch refers to one full cycle through the training dataset. (Leave as default value)\n",
    "- `seed`: Controls the reproducibility of the job. Same seed and job params should produce the same results most of the time, but still can differ in rare cases. Generated if not specified. (Leave as `Random`)\n",
    "\n",
    "5. Other options:\n",
    "- Model suffix: `ft-euro-2024`"
   ]
  },
  {
   "cell_type": "markdown",
   "id": "ca458bfb",
   "metadata": {},
   "source": [
    "## Notes\n",
    "\n",
    "- Should be aware of the OpenAI model availability in regions before fine-tuning: https://learn.microsoft.com/en-us/azure/ai-foundry/concepts/fine-tuning-overview#fine-tuning-availability\n",
    "\n",
    "- The cost to fine-tune is varied across different models and regions: https://azure.microsoft.com/en-us/pricing/details/cognitive-services/openai-service#pricing"
   ]
  }
 ],
 "metadata": {
  "kernelspec": {
   "display_name": "azure_ai102_labs",
   "language": "python",
   "name": "python3"
  },
  "language_info": {
   "name": "python",
   "version": "3.12.10"
  }
 },
 "nbformat": 4,
 "nbformat_minor": 5
}
